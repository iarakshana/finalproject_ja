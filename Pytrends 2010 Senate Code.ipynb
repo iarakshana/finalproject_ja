{
 "cells": [
  {
   "cell_type": "code",
   "execution_count": 6,
   "metadata": {},
   "outputs": [
    {
     "data": {
      "text/plain": [
       "'\"],[\" Richard C Shelby\",\"William G Barnes \"],[\" Lisa Murkowski\",\"Joe Miller \"],[\" John McCain\",\"Rodney Glassman \"],[\" John Boozman\",\"Blanche Lambert Lincoln \"],[\" Barbara Boxer\",\"Carly Fiorina \"],[\" Michael F Bennet\",\"Ken Buck \"],[\" Richard Blumenthal\",\"Linda E McMahon \"],[\" Marco Rubio\",\"Charlie Crist\",\"Kendrick Meek  \"],[\" Johnny Isakson\",\"Michael Thurmond \"],[\" Daniel K Inouye\",\"Cam Cavasso \"],[\" Mike Crapo\",\"P. Tom Sullivan \"],[\" Mark Kirk\",\"Alexander Giannoulias \"],[\" Dan Coats\",\"Brad Ellsworth \"],[\" Chuck Grassley\",\"Roxanne Conlin \"],[\" Jerry Moran\",\"Lisa Johnston \"],[\" Rand Paul\",\"Jack Conway \"],[\" David Vitter\",\"Charlie Melancon \"],[\" Barbara Mikulski\",\"Eric Wargotz \"],[\" Roy Blunt\",\"Robin Carnahan \"],[\" Harry Reid\",\"Sharron Angle \"],[\" Kelly Ayotte\",\"Paul W Hodes \"],[\" Charles E Schumer\",\"Jay Townsend \"],[\" Richard Burr\",\"Elaine Marshall \"],[\" John Hoeven\",\"Tracy Potter \"],[\" Rob Portman\",\"Lee Fisher \"],[\" Tom Coburn\",\"Jim Rogers \"],[\" Ron Wyden\",\"Jim Huffman \"],[\" Pat Toomey\",\"Joe Sestak \"],[\" Jim DeMint\",\"Alvin M Greene \"],[\" Mike Lee\",\"Sam Granato\"],[\" Patrick Leahy\",\"Daniel Freilich \"],[\" Patty Murray\",\"Dino Rossi \"],[\" Ron Johnson\",\"Russ Feingold'"
      ]
     },
     "execution_count": 6,
     "metadata": {},
     "output_type": "execute_result"
    }
   ],
   "source": [
    "#Initially tried putting quotes and commas manually, was far too tedious so tried to standardize the names to put it in the array easily\n",
    "#['Richard C Shelby', 'William G Barnes'], ['Lisa Murkowski', 'Joe Miller'], \n",
    "l1 = ': Richard C Shelby, William G Barnes : Lisa Murkowski, Joe Miller : John McCain, Rodney Glassman : John Boozman, Blanche Lambert Lincoln : Barbara Boxer, Carly Fiorina : Michael F Bennet, Ken Buck : Richard Blumenthal, Linda E McMahon : Marco Rubio, Charlie Crist, Kendrick Meek  : Johnny Isakson, Michael Thurmond : Daniel K Inouye, Cam Cavasso : Mike Crapo, P. Tom Sullivan : Mark Kirk, Alexander Giannoulias : Dan Coats, Brad Ellsworth : Chuck Grassley, Roxanne Conlin : Jerry Moran, Lisa Johnston : Rand Paul, Jack Conway : David Vitter, Charlie Melancon : Barbara Mikulski, Eric Wargotz : Roy Blunt, Robin Carnahan : Harry Reid, Sharron Angle : Kelly Ayotte, Paul W Hodes : Charles E Schumer, Jay Townsend : Richard Burr, Elaine Marshall : John Hoeven, Tracy Potter : Rob Portman, Lee Fisher : Tom Coburn, Jim Rogers : Ron Wyden, Jim Huffman : Pat Toomey, Joe Sestak : Jim DeMint, Alvin M Greene : Mike Lee, Sam Granato: Patrick Leahy, Daniel Freilich : Patty Murray, Dino Rossi : Ron Johnson, Russ Feingold' \n",
    "\n",
    "l2 = l1.replace(':', '\"],[\"')\n",
    "l3 = l2.replace(', ', '\",\\\"')\n",
    "l3"
   ]
  },
  {
   "cell_type": "code",
   "execution_count": null,
   "metadata": {
    "collapsed": true
   },
   "outputs": [],
   "source": [
    "from pytrends.request import TrendReq\n",
    "import pandas as pd\n",
    "import numpy as np\n",
    "\n",
    "pytrend = TrendReq()\n",
    "names = [[\" Richard C Shelby\",\"William G Barnes \"],[\" Lisa Murkowski\",\"Joe Miller \"],[\" John McCain\",\"Rodney Glassman \"],[\" John Boozman\",\"Blanche Lambert Lincoln \"],[\" Barbara Boxer\",\"Carly Fiorina \"],[\" Michael F Bennet\",\"Ken Buck \"],[\" Richard Blumenthal\",\"Linda E McMahon \"],[\" Marco Rubio\",\"Charlie Crist\",\"Kendrick Meek  \"],[\" Johnny Isakson\",\"Michael Thurmond \"],[\" Daniel K Inouye\",\"Cam Cavasso \"],[\" Mike Crapo\",\"P. Tom Sullivan \"],[\" Mark Kirk\",\"Alexander Giannoulias \"],[\" Dan Coats\",\"Brad Ellsworth \"],[\" Chuck Grassley\",\"Roxanne Conlin \"],[\" Jerry Moran\",\"Lisa Johnston \"],[\" Rand Paul\",\"Jack Conway \"],[\" David Vitter\",\"Charlie Melancon \"],[\" Barbara Mikulski\",\"Eric Wargotz \"],[\" Roy Blunt\",\"Robin Carnahan \"],[\" Harry Reid\",\"Sharron Angle \"],[\" Kelly Ayotte\",\"Paul W Hodes \"],[\" Charles E Schumer\",\"Jay Townsend \"],[\" Richard Burr\",\"Elaine Marshall \"],[\" John Hoeven\",\"Tracy Potter \"],[\" Rob Portman\",\"Lee Fisher \"],[\" Tom Coburn\",\"Jim Rogers \"],[\" Ron Wyden\",\"Jim Huffman \"],[\" Pat Toomey\",\"Joe Sestak \"],[\" Jim DeMint\",\"Alvin M Greene \"],[\" Mike Lee\",\"Sam Granato\"],[\" Patrick Leahy\",\"Daniel Freilich \"],[\" Patty Murray\",\"Dino Rossi \"],[\" Ron Johnson\",\"Russ Feingold\"]]\n",
    "\n",
    "\n",
    "gtrends2010S = []\n",
    "\n",
    "def searchState(kw_list):\n",
    "  pytrend.build_payload(kw_list, geo = 'US',  timeframe = '2010-01-01 2010-11-02')\n",
    "  iot_2010 = pytrend.interest_over_time()\n",
    "  person1 = (sum(iot_2010[kw_list[0]]))/ ((sum(iot_2010[kw_list[0]])) + (sum(iot_2010[kw_list[1]])))\n",
    "  person2 = 1-person1\n",
    "  x = (person1, person2)\n",
    "  gtrends2010S.append(x)\n",
    "  #prints each\n",
    "  #print(x)\n",
    "\n",
    "\n",
    "kw_list = [searchState(n) for n in names]\n",
    "\n",
    "#prints all\n",
    "#print(gtrends2012S)\n",
    "gtrends2010S"
   ]
  },
  {
   "cell_type": "code",
   "execution_count": null,
   "metadata": {
    "collapsed": true
   },
   "outputs": [],
   "source": [
    "from pprint import pprint\n",
    "gtrends2012Ss = ([item for c_list in gtrends2012S for item in c_list])\n",
    "# https://stackoverflow.com/questions/22882143/split-lists-within-list\n",
    "gtrends12S = pd.DataFrame(np.array(gtrends2012Ss))\n",
    "gtrends12S.rename(columns={0 : 'Percent'})"
   ]
  }
 ],
 "metadata": {
  "kernelspec": {
   "display_name": "Python 3",
   "language": "python",
   "name": "python3"
  },
  "language_info": {
   "codemirror_mode": {
    "name": "ipython",
    "version": 3
   },
   "file_extension": ".py",
   "mimetype": "text/x-python",
   "name": "python",
   "nbconvert_exporter": "python",
   "pygments_lexer": "ipython3",
   "version": "3.6.2"
  }
 },
 "nbformat": 4,
 "nbformat_minor": 2
}
