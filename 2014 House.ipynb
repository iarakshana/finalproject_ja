{
 "cells": [
  {
   "cell_type": "code",
   "execution_count": 1,
   "metadata": {
    "collapsed": true
   },
   "outputs": [],
   "source": [
    "from pytrends.request import TrendReq\n",
    "import pandas as pd\n",
    "import numpy as np\n",
    "import time\n",
    "pytrend = TrendReq()\n",
    "\n",
    "\n",
    "names1 = [['Bradley Byrne', 'Burton R. LeFlore'], ['Martha Roby', 'Erick Wright'], ['Mike Rogers', 'Jesse Smith'], ['Robert Aderholt', 'All Others'], ['Mo Brooks', 'Mark Bray'], ['Gary Palmer', 'Mark Lester'], ['Terri Sewell', 'All Others'], ['Don Young', 'Forrest Dunbar'],['Ann Kirkpatrick', 'Andy Tobin'], ['Martha McSally', 'Ron Barber'], ['Raul Grijalva', 'Gabby Mercer Saucedo'], ['Paul Gosar', 'Mike Weisser'], ['Matt Salmon', 'James Woods'], ['David Schweikert', 'John Williamson'], ['Ruben Gallego', 'Joe Cobb'],['Trent Franks', 'Stephen Dolgos'], ['Kyrsten Sinema', 'Wendy Rogers'], ['Rick Crawford', 'Jackie McPherson'], ['French Hill', 'Patrick Henry Hays'], ['Steve Womack', 'Grant Brand'], ['Bruce Westerman', 'James Lee Witt'],['Doug La Malfa', 'Heidi Hall'], ['Jared Huffman', 'Dale K Mensing'], ['John Garamendi', 'Dan Logue'], ['Tom McClintock', 'Arthur Moore'], ['Mike Thompson', 'James Hinton'], ['Doris Matsui', 'Joseph McCray'],['Ami Bera','Dough Ose'], ['Paul Cook', 'Bob Conaway'], ['Jerry McNerney', 'Antonio C Amador'], ['Jeff Denham', 'Michael Eggman'], ['Mark Desaulnier', 'Tue Phan'],['Nancy Pelosi', 'John Dennis'], ['Barbara Lee', 'Dakin Sundeen'], ['Jackie Speier', 'Robin Chew'], ['Eric Swalwell', 'Hugh Bussell'], ['Jim Costa', 'Johnny Tacherra'], ['Mike Honda', 'Ro Khanna'],['Anna G Eshoo', 'Richard B Fox'],['Zoe Lofgren', 'Robert Murray'],['Sam Farr', 'Ronald Paul Kabat'], ['David Valadao', 'Amanda Renteria'], ['Devin Nunes', 'Suzanna Augilera-Marrero'],['Kevin McCarthy', 'Raul Garcia'],['Lois Capps', 'Chris Mitchum'],['Steve Knight', 'Tony Strickland'],['Julia Brownley', 'Jeff Gorell'],['Judy Chu', 'Jack Orswell'],['Adam Schiff','Steve Stokes'],['Tony Cardenas', 'William O’Callaghan Leader'],['Brad Sherman', 'Mark S Reed'],['Pete Aguilar', 'Paul Chabot'],['Grace F Napolitano', 'Arturo Enrique Alas'],['Ted Lieu', 'Elan Carr'],['Xavier Becerra', 'Adrienne Nicole Edwards'], ['Norma Torres', 'Christina Gagnier'], ['Raul Ruiz', 'Brian Nestande'],['Karen Bass', 'Adam R King'],['Linda T Sanchez', 'Benjamin Campos'],['Ed Royce', 'Peter Anderson'], ['Lucille Roybal-Allard', 'David Sanchez'],['Mark Takano', 'Steve Adams'],['Ken Calvert', 'Tim Sheridan'],['Maxine Waters', 'John Wood Jr.'],['Janice Hahn', 'Adam Shbeita'], ['Mimi Walters', 'Drew Leavens'],['Loretta Sanchez', 'Adam Nick'],['Alan Lowenthal', 'Andy Whallon'], ['Dana Rohrabacher', 'Suzanna Savary'],['Darrell Issa', 'Dave Peiser'],['Duncan Hunter', 'James Kimber'],['Juan Vargas', 'Stephen Meade'],['Scott Peters', 'Carl DeMaio'],['Susan Davis', 'Larry Wilske'], ['Diana DeGette', 'Martin Walsh'], ['Jared Polis', 'George Leing'], ['Scott Tipton', 'Abel Tapia'], ['Ken Buck', 'Vic Meyers'], ['Doug Lamborn', 'Irv Halter'], ['Mike Coffman', 'Andrew Romanoff'], ['Ed Perlmutter', 'Don Ytterberg'],['John Larson', 'Matthew Corey'],['Joe Courtney', 'Lori Hopkins-Cavanagh'],[ 'Rosa Delauro', 'James E Brown'],['Jim Himes', 'Dan Debicella'],['Elizabeth Esty', 'Mark Greenberg'],['John Carney Jr','Rose Izzo'],['Jeff Miller', 'Jim Bryan'],['Gwen Graham','Steve Southerland'],['Ted Yoho', 'Marihelen Wheeler'],['Ander Crenshaw', 'Paula Moser-Bartlett'],['Corrine Brown', 'Glo Smith'],['Ron DeSantis', 'David Cox'],['John Mica', 'Wes Neuman'],['Bill Posey', 'Gabriel Rothblatt'],['Alan Grayson', 'Carol Platt'],['Daniel Webster', 'Michael McKenna'],['Richard Nugent', 'Dave Koller'],['David W Jolly', 'Lucas Overby'],['Dennis A. Ross', 'Alan M Cohn'],['Vern Buchanan', 'Henry Lawrence'],['Tom Rooney', 'Will Bronson'],['Patrick Murphy', 'Carl J Domino'], ['Curt Clawson', 'April Freeman'],['Alcee L Hastings', 'Jay Bonner'],['Ted Deutch', 'Michael W Trout']]\n",
    "names2 = [['Lois Frankel', 'Paul Spain'],['Debbie Wasserman Schultz', 'Joseph Kaufman'],['Frederica S Wilson', 'Dufirstson Julio Neree'],['Carlos Curbelo', 'Joe Garcia'],['Buddy Carter', 'Brian Corwin Reese'],['Sanford Bishop', 'Gregory P. Duke'],['Lynn Acton Westmoreland', 'All Others'],['Hank Johnson', 'Raymond L Davis'],['John R Lewis', 'All Others'],['Thomas E Price', 'Robert G Montigel'],['Rob Woodall', 'Thomas Dee Wight'],['Austin Scott', 'Ronald Cain'],['Doug Collins', 'David Donald Vogel'],['Jody B Hice', 'Ivory Kenneth Dious'],['Barry D Loudermilk', 'All Others' ],['Richard Allen', 'John Jenkins Barrow'], ['Mark Takai', 'Charles Djou'], ['Tulsi Gabbard', 'Kawika Crowley'], ['Raul Labrador', 'Shirley Ringo'], ['Mike Simpson', 'Richard Stallings'], ['Bobby Rush', 'Jimmy Lee Tillman'],['Robin Kelly', 'Eric Wallace'], ['Dan Lipinski', 'Sharon Brannigan'],['Luis Gutierrez', 'Hector Concepcion'], ['Mike Quigley', 'Vince Kolber'], ['Peter Roskam', 'Michael Mason'], ['Danny Davis', 'Robert Bumpers'], ['Tammy Duckworth','Larry Kaifesh'],['Janice Schakowsky', 'Susanne Atanus'],['Bob Dold', 'Brad Schneider'],['Bill Foster', 'Darlene Senger'],['Mike Bost', 'William Enyart'],['Rodney Davis', 'Ann Callis'],['Randall Hultgren', 'Dennis Anderson'],['John Shimkus', 'Eric Thorsland'],['Adam Kinzinger', 'Randall Olsen'],['Cheri Bustos', 'Bobby Schilling'], ['Aaron Schock', 'Darrel Miller'],['Peter Visclosky', 'Mark Leyva'],['Jackie Walorski', 'Joe Bock '],['Marlin Stutzman', 'Justin Kuhnle '],['Todd Rokita', 'John Dale '],['Susan Brooks', 'Shawn Denney '],['Luke Messer', 'Susan Hall Heitzman '],['Andre Carson', 'Catherine Ping'],['Larry Bucshon', 'Tom Spangler'],['Todd Young', 'Bill Bailey'], ['Rod Blum', 'Pat Murphy'],['Dave Loebsack', 'Mariannette Miller-Meeks'], ['David Young', 'Staci Appel'], ['Steve King', 'Jim Mowrer'], ['Tim Huelskamp', 'James Sherow'], ['Lynn Jenkins', 'Margie Wakefield'], ['Kevin Yoder', 'Kelly Kultala'] , ['Mike Pompeo', 'Perry Schuckman'], ['Ed Whitfield', 'Charles Kendall Hatchett'], ['Brett Guthrie', 'Ron Leach'], ['John Yarmuth', 'Michael Macfarlane'], ['Thomas Massie', 'Peter Newberry'], ['Harold Rogers', 'Kenneth Stepp'], ['Andy Barr', 'Elisabeth Jensen'], [\" Steve Scalise\",\"Vinny Mendoza  \"],[\" Cedric Richmond\",\"Gary Landrieu  \"],[\" Charles Boustany\",\"Russell Richard  \"],[\" John Fleming\",\"Randall Lord  \"],[\"Jamie Mayo\", \"Ralph Lee Abraham\"],[\" Edwin Edwards\",\"Garret Graves  \"],[\" Chellie Pingree\",\"Isaac Misiuk  \"],[\" Bruce Poliquin\",\"Emily Cain  \"],[\" Andy Harris\",\"Bill Tilghman  \"],[\" Dutch Ruppersberger\",\"David Banach  \"],[\" John Sarbanes\",\"Charles Long  \"],[\" Donna Edwards\",\"Nancy Hoyt  \"],[\" Steny Hoyer\",\"Chris Chaffee  \"],[\" John Delaney\",\"Dan Bongino  \"],[\" Elijah Cummings\",\"Carrogan Vaughn  \"],[\" Chris Van Hollen\",\"Dave Wallace  \"],[\" Richard Neal\", \"All Others\"],[\" James McGovern\",\"All Others\"],[\" Niki Tsongas\",\"Roseann Wofford  \"],[\" Joseph Kennedy III\", \"All Others  \"],[\" Katherine Clark\", \"All Others  \"],[\" Seth Moulton\",\"Richard Tisei  \"],[\" Michael Capuano\", \"All Others  \"],[\" Stephen Lynch\", \"All Others\"],[\" William Richard Keating\",\"John Chapman  \"],[\" Dan Benishek\",\"Jerry Cannon  \"],[\" Bill Huizenga\",\"Dean Vanderstelt  \"],[\" Justin Amash\",\"Bob Goodrich  \"],[\" John Moolenaar\",\"Jeff Holmes  \"],[\" Daniel Kildee\",\"Allen Hardwick  \"],[\" Fred Upton\",\"Paul Clements  \"],[\" Tim Walberg\",\"Pam Byrnes  \"],[\" Mike Bishop\",\"Eric Schertzing  \"],[\" Sander Levin\",\"George Brikho  \"],[\" Candice Miller\",\"Chuck Stadler  \"],[\" Dave Trott\",\"Bobby McKenzie  \"]]\n",
    "names3 = [[\" Debbie Dingell\",\"Terry Bowman  \"],[\" John Conyers\",\"Jeff Gorman  \"],[\" Brenda Lawrence\",\"Christina Barr  \"],[\" Tim Walz\",\"Jim Hagedorn  \"],[\" John Kline\",\"Mike Obermueller  \"],[\" Erik Paulsen\",\"Sharon Sund  \"],[\" Betty McCollum\",\"Sharna Wahlgren  \"],[\" Keith Ellison\",\"Doug Daggett  \"],[\" Tom Emmer\",\"Joe Perske  \"],[\" Collin C Peterson\",\"Torrey Westrom  \"],[\" Rick Nolan\",\"Stewart Mills  \"],[\" Alan Nunnelee\",\"Ron E Dickey  \"],[\" Bennie G Thompson\",\"Troy Ray  \"],[\" Gregg Harper\",\"Douglas MacArthur Magee  \"],[\" Steven McCarty Palazzo\",\"Matt Moore  \"],[\" Lacy Clay\",\"Daniel J Elder  \"],[\" Ann Wagner\",\"Arthur Lieber  \"],[\" Blaine Luetkemeyer\",\"Courtney Denton  \"],[\" Vicky Hartzler\",\"Nate Irvin  \"],[\" Emanuel Cleaver\",\"Jacob Turk  \"],[\" Sam Graves\",\"W.A. Hedge  \"],[\" Billy Long\",\"Jim Evans  \"],[\" Jason Smith\",\"Barbara Stocker  \"],[\" Ryan Zinke\",\"John Lewis  \"],[\" Jeff Fortenberry\",\"Dennis P Crawford  \"],[\" Brad Ashford\",\"Lee Terry  \"],[\" Adrian Smith\",\"Mark Sullivan  \"],[\" Dina Titus\",\"Annette Teijeiro  \"],[\" Mark Amodei\",\"Kristen Spees  \"],[\" Joe Heck\",\"Erin Bilbray  \"], [\" Cresent Hardy\",\"Steven Horsford  \"],[\" Frank Guinta\",\"Carol Shea-Porter  \"],[\" Ann McLane Kuster\",\"Marilinda Garcia  \"],[\" Donald Norcross\",\"Garry W Cobb  \"],[\" Frank LoBiondo\",\"William J Hughes  \"],[\" Tom MacArthur\",\"Aimee Belgard  \"],[\"  Christopher H Smith\",\"Ruben Scolavino  \"],[\" Scott Garrett\",\"Roy Cho  \"],[\" Frank Pallone\",\"Anthony E Wilkinson  \"],[\" Leonard Lance\",\"Janice Kovach  \"],[\" Albio Sires\",\"Jude Anthony Tiscornia  \"],[\" Bill Pascrell\",\"Dierdre Paul  \"],[\" Donald M Payne\",\"Yolanda Dentley  \"],[\" Rodney Frelinghuysen\",\"Mark Dunec  \"],[\" Bonnie Watson Coleman\",\"Alieta Eck  \"],[\" Michelle Grisham\",\"Michael H Frese  \"],[\" Steve Pearce\",\"Roxanne Lara  \"],[\" Ben Lujan\",\"Jefferson Byrd  \"],[\" Lee Zeldin\",\"Timothy Bishop  \"],[\" Peter T King\",\"Patricia Maher  \"],[\" Steve Israel\",\"Grant M Lally  \"],[\" Kathleen Rice\",\"Bruce Blakeman  \"],[\" Gregory Meeks\",\"Allen Steinhardt  \"],[\" Grace Meng\", \"All Others\" ],[\" Nydia M Valezquez\",\"Jose Luis Fernandez  \"],[\" Hakeen S Jeffries\",\"Alan Bellone  \"],[\" Yvette D Clarke\",\"Daniel J Cavanagh  \"],[\" Jerrold L Nadler\",\"Ross Brady  \"],[\" Michael G Grimm\",\"Domenic M Recchia  \"],[\" Carolyn B Maloney\",\"Nicholas Di Iorio  \"],[\" Charles B Rangel\",\"Daniel Vila Rivera  \"],[\" Joseph Crowley\",\"Elizabeth Perri  \"],[\" Jose Serrano\",\"Eduardo Ramirez  \"],[\" Eliot Engel \", \"All Others\"],[\" Nita Lowey\",\"Christopher Day  \"],[\" Sean Patrick Maloney\",\"Nan Hayworth  \"],[\" Chris Gibson\",\"Sean Eldridge  \"],[\" Paul Tonko\",\"James Fischer  \"],[\" Elise Stefanik\",\"Aaron Woolf  \"],[\" Richard L. Hanna\",\"All Others\"],[\" Tom Reed\",\"Martha Robertson  \"],[\" John Katko\",\"Daniel Maffei  \"],[\" Louise Slaughter\",\"Mark Assini  \"],[\" Brian Higgins\",\"Kathleen Weppner  \"],[\" Chris Collins\",\"James O’Donnell  \"],[\" G.K. Butterfield\",\"Arthur Rich  \"],[\" Renee Ellmers\",\"Clay Aiken  \"],[\" Walter Jones\",\"Marshall Adame  \"],[\" David Price\",\"Paul Wright  \"],[\" Virginia Foxx\",\"Joshua Brannon  \"],[\" Mark Walker\",\"Laura Fjeld  \"],[\" David Rouzer\",\"Jonathan Barfield  \"],[\" Richard Hudson\",\"Antonio Blue  \"],[\" Robert Pittenger\",\"Shawn Eckles  \"],[\" Patrick McHenry\",\"Tate MacQueen  \"],[\" Mark Meadows\",\"Tom Hill  \"],[\" Alma Adams\",\"Vince Coakley  \"],[\" George Holding\",\"Brenda Cleary  \"],[\" Kevin Cramer\",\"George Sinner  \"],[\" Steve Chabot\",\"Fred Kundrata  \"],[\" Brad Wenstrup\",\"Marek Tyszkiewicz  \"],[\" Joyce Beatty\",\"John Adams  \"],[\" Jim Jordan\",\"Janet Garrett  \"],[\" Bob Latta\",\"Robert Fry  \"],[\" Bill Johnson\",\"Jennifer Garrison  \"],[\" Bob Gibbs\",\"All Others\"],[\" John Boehner\",\"Tom Poetter  \"]]\n",
    "names4 = [[\" Marcy Kaptur\",\"Richard May  \"],[\" Mike Turner\",\"Robert Klepinger  \"],[\" Marcia Fudge\",\"Mark Zetzer  \"],[\" Pat Tiberi\",\"David Arthur Tibbs  \"],[\" Tim Ryan\",\"Thomas Pekarek  \"],[\" David Joyce\",\"Michael Wager  \"],[\" Steve Stivers\",\"Scott Wharton  \"],[\" Jim Renacci\",\"Pete Crossland  \"],[\" Markwayne Mullin\",\"Earl E Everett  \"],[\" Frank Lucas\",\"Frankie Robbins  \"],[\" Tom Cole\",\"Bert Smith  \"],[\" Steve Russell\",\"Al McAffrey  \"],[\" Suzanne Bonamici\",\"Jason Yates  \"],[\" Greg Walden\",\"Aelea Christofferson  \"],[\" Earl Blumenauer\",\"James Buchal  \"],[\" Peter DeFazio\",\"Art Robinson  \"],[\" Kurt Schrader\",\"Tootie Smith  \"],[\" Robert A. Brady\",\"Megan Rath  \"],[\" Chaka Fattah\",\"Armond James  \"],[\" Mike Kelly\",\"Dan Lavallee  \"],[\" Scott Perry\",\"Linda Deliah Thompson  \"],[\" Glenn Thompson\",\"Kerith Strano Taylor  \"],[\" Ryan Costello\",\"Manan Trivedi  \"],[\" Patrick L Meehan\",\"Mary Ellen Balchunis  \"],[\" Michael G Fitzpatrick\",\"Kevin Strouse  \"],[\" Bill Shuster\",\"Alanna Hartzok  \"],[\" Tom Marino\",\"Scott F Brion  \"],[\" Lou Barletta\",\"Andy Ostrowski  \"],[\" Keith Rothfus\",\"Erin McClelland  \"],[\" Brendan Boyle\",\"Carsonn Adcock  \"],[\" Mike Doyle\",\"All Others\"],[\" Charles Dent\",\"All Others\"],[\" Joe Pitts\",\"Tom Houghton  \"],[\" Matt Cartwright\",\"David Moylan  \"],[\" David Cicilline\",\"Cormick Lynch  \"],[\" James Langevin\",\"Rhue Reis  \"],[\" Mark Sanford\",\"All Others\"],[\" Joe Wilson\",\"Phil Black  \"],[\" Jeff Duncan\",\"Barbara Jo Mullis  \"],[\" Trey Gowdy\",\"Curtis McLaughlin  \"],[\" Mick Mulvaney\",\"Tom Adams  \"],[\" James E Clyburn\",\"Anthony Culler  \"],[\" Tom Rice\",\"Gloria Bromell-Tinubu  \"],[\" Kristi Noem\",\"Corinna Robinson  \"],[\" Phil Roe\",\"Robert Franklin  \"],[\" John Duncan\",\"Bob Scott  \"],[\" Chuck Fleischmann\",\"Mary Headrick  \"],[\" Scott DesJarlais\",\"Lenda Sherrell  \"],[\" Jim Cooper\",\"Bob Ries  \"],[\" Diane Black\",\"Amos Scott Powers  \"],[\" Marsha Blackburn\",\"Daniel Cramer  \"],[\" Stephen Fincher\",\"Wes Bradley  \"],[\" Steve Cohen\",\"Charlotte Bergmann  \"],[\" Louie Gohmert\",\"Shirley J McKellar  \"],[\" Ted Poe\",\"Niko Letsos  \"],[\" Sam Johnson\",\"Paul Blair  \"],[\" John Ratcliffe\", \"All Others\"],[\" Jeb Hensarling\",\"Ken Ashby  \"],[\" Joe Barton\",\"David Cozad  \"], [\" John Culberson\",\"James Cargas  \"],[\" Kevin Brady\",\"Ken Petty  \"],[\" Al Green\",\"Johnny Johnson  \"],[\" Michael McCaul\",\"Tawana Walter-Cadien  \"],[\" Mike Conaway\",\"Ryan Lange  \"],[\" Kay Granger\",\"Mark Greene  \"],[\" Mac Thornberry\",\"Mike Minter  \"],[\" Randy Weber\",\"Donald Brown  \"],[\" Ruben Hinojosa\",\"Eddie Zamora  \"],[\" Beto O’Rourke\",\"Corey Roen  \"],[\" Bill Flores\",\"Nick Haynes  \"],[\" Sheila Lee Jackson\",\"Sean Seibert  \"],[\" Randy Neugebauer\",\"Neal Marchbanks  \"],[\" Joaquin Castro\",\"Jeffrey Blunt\"],[\" Lamar Smith\",\"Antonio Diaz  \"],[\" Pete Olson\",\"Frank Briscoe  \"],[\" Will Hurd\",\"Pete Gallego  \"],[\" Kenny Marchant\",\"Patrick McGehearty  \"],[\" Roger Williams\",\"Marco Montoya  \"],[\" Michael Burgess\",\"Mark Boler  \"],[\" Blake Farenthold\",\"Wesley Reed  \"],[\" Henry Cuellar\",\"William Aikens  \"],[\" Gene Green\",\"James Stanczak  \"],[\" Eddie Bernice Johnson\",\"Max Koch  \"],[\"  John Carter\",\"Louie Minor  \"],[\" Pete Sessions\",\"Frank Perez  \"],[\" Marc Veasey\",\"Jason Reeves  \"],[\" Filemon Vela\",\"Larry Smith  \"],[\" Lloyd Doggett\",\"Susan Narvaiz  \"],[\" Brian Babin\",\"Michael Cole  \"],[\" Rob Bishop\",\"Donna McAleer  \"],[\" Chris Stewart\",\"Luz Robles  \"],[\" Jason Chaffetz\",\"Brian Wonnacott  \"],[\" Mia Love\",\"Doug Owens  \"],[\" Peter Welch\",\"Mark Donka  \"],[\" Rob Wittman\",\"Norman Mosher  \"],[\" Scott Rigell\",\"Suzanne Patrick  \"],[\" Bobby Scott\",\"All Others  \"],[\" Randy Forbes\",\"Elliot Fausz  \"],[\" Robert Hurt\",\"Lawrence Gaughan  \"]]\n",
    "names5 = [[\" Robert Goodlatte\",\"William Hammer  \"],[\" Dave Brat\",\"John Trammell  \"],[\" Donald Beyer\",\"Micah Edmond  \"],[\" Morgan Griffith\",\"William Carr  \"],[\" Barbara Comstock\",\"John Foust  \"],[\" Gerry Connolly\",\"Suzanna Scholte  \"],[\" Suzan DelBene\",\"Pedro Celis  \"],[\" Rick Larsen\",\"B.J. Guillot  \"],[\" Jaime Herrera Beutler\",\"Bob Dingethal  \"],[\" Dan Newhouse\",\"Clint Didier  \"],[\" Cathy McMorris Rodgers\",\"Joseph Pakootas  \"],[\" Derek Kilmer\",\"Marty McClendon  \"],[\" Jim McDermott\",\"Craig Keller  \"],[\" Dave Reichert\",\"Jason Ritchie  \"],[\" Adam Smith\",\"Doug Basler  \"],[\" Denny Heck\",\"Joyce McDonald  \"],[\" David McKinley\",\"Glen Gainer  \"],[\" Alex Mooney\",\"Nick Casey  \"],[\" Evan Jenkins\",\"Nick Rahall  \"],[\" Paul Ryan\",\"Rob Zerban  \"],[\" Mark Pocan\" ,\"Peter Theron  \"],[\" Ron Kind\",\"Tony Kurtz  \"],[\" Gwen Moore\",\"Dan Sebring  \"],[\" Jim Sensenbrenner\",\"Chris Rockwood  \"],[\" Glenn Grothman\",\"Mark Harris  \"],[\" Sean Duffy\",\"Kelly Westlund  \"],[\" Reid Ribble\",\"Ron Gruett  \"],[\" Cynthia Lummis\",\"Richard Grayson\"]]\n",
    "#Some names were not the common names or search topics used for the candidate, for example E.L. Carter was Buddy Carter and Henry C. Johnson was Hank Johnson. \n",
    "#Middle initials were mostly ignored, Matthew M Corey would be Matthew Corey. \n",
    "#Some names yield incorrect data as the candidate shares the name with someone much more popular so they do not show up at all, for example James Brown from CT is substituted for the actor James Brown\n",
    "gtrends2014H = []\n",
    "\n"
   ]
  },
  {
   "cell_type": "code",
   "execution_count": 2,
   "metadata": {},
   "outputs": [
    {
     "ename": "ResponseError",
     "evalue": "The request failed: Google returned a response with code 429.",
     "output_type": "error",
     "traceback": [
      "\u001b[1;31m---------------------------------------------------------------------------\u001b[0m",
      "\u001b[1;31mResponseError\u001b[0m                             Traceback (most recent call last)",
      "\u001b[1;32m<ipython-input-2-900c6243ca32>\u001b[0m in \u001b[0;36m<module>\u001b[1;34m()\u001b[0m\n\u001b[0;32m     12\u001b[0m \u001b[1;33m\u001b[0m\u001b[0m\n\u001b[0;32m     13\u001b[0m \u001b[1;33m\u001b[0m\u001b[0m\n\u001b[1;32m---> 14\u001b[1;33m \u001b[0mkw_list\u001b[0m \u001b[1;33m=\u001b[0m \u001b[1;33m[\u001b[0m\u001b[0msearchState\u001b[0m\u001b[1;33m(\u001b[0m\u001b[0mn\u001b[0m\u001b[1;33m)\u001b[0m \u001b[1;32mfor\u001b[0m \u001b[0mn\u001b[0m \u001b[1;32min\u001b[0m \u001b[0mnames1\u001b[0m\u001b[1;33m]\u001b[0m\u001b[1;33m\u001b[0m\u001b[0m\n\u001b[0m",
      "\u001b[1;32m<ipython-input-2-900c6243ca32>\u001b[0m in \u001b[0;36m<listcomp>\u001b[1;34m(.0)\u001b[0m\n\u001b[0;32m     12\u001b[0m \u001b[1;33m\u001b[0m\u001b[0m\n\u001b[0;32m     13\u001b[0m \u001b[1;33m\u001b[0m\u001b[0m\n\u001b[1;32m---> 14\u001b[1;33m \u001b[0mkw_list\u001b[0m \u001b[1;33m=\u001b[0m \u001b[1;33m[\u001b[0m\u001b[0msearchState\u001b[0m\u001b[1;33m(\u001b[0m\u001b[0mn\u001b[0m\u001b[1;33m)\u001b[0m \u001b[1;32mfor\u001b[0m \u001b[0mn\u001b[0m \u001b[1;32min\u001b[0m \u001b[0mnames1\u001b[0m\u001b[1;33m]\u001b[0m\u001b[1;33m\u001b[0m\u001b[0m\n\u001b[0m",
      "\u001b[1;32m<ipython-input-2-900c6243ca32>\u001b[0m in \u001b[0;36msearchState\u001b[1;34m(kw_list)\u001b[0m\n\u001b[0;32m      1\u001b[0m \u001b[0mgtrends2014H1\u001b[0m \u001b[1;33m=\u001b[0m \u001b[1;33m[\u001b[0m\u001b[1;33m]\u001b[0m\u001b[1;33m\u001b[0m\u001b[0m\n\u001b[0;32m      2\u001b[0m \u001b[1;32mdef\u001b[0m \u001b[0msearchState\u001b[0m\u001b[1;33m(\u001b[0m\u001b[0mkw_list\u001b[0m\u001b[1;33m)\u001b[0m\u001b[1;33m:\u001b[0m\u001b[1;33m\u001b[0m\u001b[0m\n\u001b[1;32m----> 3\u001b[1;33m     \u001b[0mpytrend\u001b[0m\u001b[1;33m.\u001b[0m\u001b[0mbuild_payload\u001b[0m\u001b[1;33m(\u001b[0m\u001b[0mkw_list\u001b[0m\u001b[1;33m,\u001b[0m \u001b[0mgeo\u001b[0m \u001b[1;33m=\u001b[0m \u001b[1;34m'US'\u001b[0m\u001b[1;33m,\u001b[0m  \u001b[0mtimeframe\u001b[0m \u001b[1;33m=\u001b[0m \u001b[1;34m'2014-01-01 2014-11-04'\u001b[0m\u001b[1;33m)\u001b[0m\u001b[1;33m\u001b[0m\u001b[0m\n\u001b[0m\u001b[0;32m      4\u001b[0m     \u001b[0mtime\u001b[0m\u001b[1;33m.\u001b[0m\u001b[0msleep\u001b[0m\u001b[1;33m(\u001b[0m\u001b[1;36m6\u001b[0m\u001b[1;33m)\u001b[0m\u001b[1;33m\u001b[0m\u001b[0m\n\u001b[0;32m      5\u001b[0m     \u001b[0miot_2014H1\u001b[0m \u001b[1;33m=\u001b[0m \u001b[0mpytrend\u001b[0m\u001b[1;33m.\u001b[0m\u001b[0minterest_over_time\u001b[0m\u001b[1;33m(\u001b[0m\u001b[1;33m)\u001b[0m\u001b[1;33m\u001b[0m\u001b[0m\n",
      "\u001b[1;32mC:\\Users\\catjm\\Anaconda3\\lib\\site-packages\\pytrends\\request.py\u001b[0m in \u001b[0;36mbuild_payload\u001b[1;34m(self, kw_list, cat, timeframe, geo, gprop)\u001b[0m\n\u001b[0;32m    106\u001b[0m         \u001b[0mself\u001b[0m\u001b[1;33m.\u001b[0m\u001b[0mtoken_payload\u001b[0m\u001b[1;33m[\u001b[0m\u001b[1;34m'req'\u001b[0m\u001b[1;33m]\u001b[0m \u001b[1;33m=\u001b[0m \u001b[0mjson\u001b[0m\u001b[1;33m.\u001b[0m\u001b[0mdumps\u001b[0m\u001b[1;33m(\u001b[0m\u001b[0mself\u001b[0m\u001b[1;33m.\u001b[0m\u001b[0mtoken_payload\u001b[0m\u001b[1;33m[\u001b[0m\u001b[1;34m'req'\u001b[0m\u001b[1;33m]\u001b[0m\u001b[1;33m)\u001b[0m\u001b[1;33m\u001b[0m\u001b[0m\n\u001b[0;32m    107\u001b[0m         \u001b[1;31m# get tokens\u001b[0m\u001b[1;33m\u001b[0m\u001b[1;33m\u001b[0m\u001b[0m\n\u001b[1;32m--> 108\u001b[1;33m         \u001b[0mself\u001b[0m\u001b[1;33m.\u001b[0m\u001b[0m_tokens\u001b[0m\u001b[1;33m(\u001b[0m\u001b[1;33m)\u001b[0m\u001b[1;33m\u001b[0m\u001b[0m\n\u001b[0m\u001b[0;32m    109\u001b[0m         \u001b[1;32mreturn\u001b[0m\u001b[1;33m\u001b[0m\u001b[0m\n\u001b[0;32m    110\u001b[0m \u001b[1;33m\u001b[0m\u001b[0m\n",
      "\u001b[1;32mC:\\Users\\catjm\\Anaconda3\\lib\\site-packages\\pytrends\\request.py\u001b[0m in \u001b[0;36m_tokens\u001b[1;34m(self)\u001b[0m\n\u001b[0;32m    117\u001b[0m             \u001b[0mmethod\u001b[0m\u001b[1;33m=\u001b[0m\u001b[0mTrendReq\u001b[0m\u001b[1;33m.\u001b[0m\u001b[0mGET_METHOD\u001b[0m\u001b[1;33m,\u001b[0m\u001b[1;33m\u001b[0m\u001b[0m\n\u001b[0;32m    118\u001b[0m             \u001b[0mparams\u001b[0m\u001b[1;33m=\u001b[0m\u001b[0mself\u001b[0m\u001b[1;33m.\u001b[0m\u001b[0mtoken_payload\u001b[0m\u001b[1;33m,\u001b[0m\u001b[1;33m\u001b[0m\u001b[0m\n\u001b[1;32m--> 119\u001b[1;33m             \u001b[0mtrim_chars\u001b[0m\u001b[1;33m=\u001b[0m\u001b[1;36m4\u001b[0m\u001b[1;33m,\u001b[0m\u001b[1;33m\u001b[0m\u001b[0m\n\u001b[0m\u001b[0;32m    120\u001b[0m         )['widgets']\n\u001b[0;32m    121\u001b[0m \u001b[1;33m\u001b[0m\u001b[0m\n",
      "\u001b[1;32mC:\\Users\\catjm\\Anaconda3\\lib\\site-packages\\pytrends\\request.py\u001b[0m in \u001b[0;36m_get_data\u001b[1;34m(self, url, method, trim_chars, **kwargs)\u001b[0m\n\u001b[0;32m     86\u001b[0m             \u001b[1;31m# is not allowed by Google\u001b[0m\u001b[1;33m\u001b[0m\u001b[1;33m\u001b[0m\u001b[0m\n\u001b[0;32m     87\u001b[0m             raise exceptions.ResponseError('The request failed: Google returned a '\n\u001b[1;32m---> 88\u001b[1;33m                                            'response with code {0}.'.format(response.status_code), response=response)\n\u001b[0m\u001b[0;32m     89\u001b[0m \u001b[1;33m\u001b[0m\u001b[0m\n\u001b[0;32m     90\u001b[0m     \u001b[1;32mdef\u001b[0m \u001b[0mbuild_payload\u001b[0m\u001b[1;33m(\u001b[0m\u001b[0mself\u001b[0m\u001b[1;33m,\u001b[0m \u001b[0mkw_list\u001b[0m\u001b[1;33m,\u001b[0m \u001b[0mcat\u001b[0m\u001b[1;33m=\u001b[0m\u001b[1;36m0\u001b[0m\u001b[1;33m,\u001b[0m \u001b[0mtimeframe\u001b[0m\u001b[1;33m=\u001b[0m\u001b[1;34m'today 5-y'\u001b[0m\u001b[1;33m,\u001b[0m \u001b[0mgeo\u001b[0m\u001b[1;33m=\u001b[0m\u001b[1;34m''\u001b[0m\u001b[1;33m,\u001b[0m \u001b[0mgprop\u001b[0m\u001b[1;33m=\u001b[0m\u001b[1;34m''\u001b[0m\u001b[1;33m)\u001b[0m\u001b[1;33m:\u001b[0m\u001b[1;33m\u001b[0m\u001b[0m\n",
      "\u001b[1;31mResponseError\u001b[0m: The request failed: Google returned a response with code 429."
     ]
    }
   ],
   "source": [
    "gtrends2014H1 = []\n",
    "def searchState(kw_list):\n",
    "    pytrend.build_payload(kw_list, geo = 'US',  timeframe = '2014-01-01 2014-11-04')\n",
    "    time.sleep(6)\n",
    "    iot_2014H1 = pytrend.interest_over_time()\n",
    "    person1 = (sum(iot_2014H1[kw_list[0]]))/ ((sum(iot_2014H1[kw_list[0]])) + (sum(iot_2014H1[kw_list[1]])))\n",
    "    person2 = 1-person1\n",
    "    x = (person1, person2)\n",
    "    gtrends2014H1.append(x)\n",
    "  #prints each\n",
    "  #print(x)\n",
    "\n",
    "\n",
    "kw_list = [searchState(n) for n in names1]"
   ]
  },
  {
   "cell_type": "code",
   "execution_count": 19,
   "metadata": {
    "collapsed": true
   },
   "outputs": [],
   "source": [
    "gtrends2014H2 = []\n",
    "def searchState(kw_list):\n",
    "    pytrend.build_payload(kw_list, geo = 'US',  timeframe = '2014-01-01 2014-11-04')\n",
    "    time.sleep(6)\n",
    "    iot_2014H2 = pytrend.interest_over_time()\n",
    "    person1 = (sum(iot_2014H2[kw_list[0]]))/ ((sum(iot_2014H2[kw_list[0]])) + (sum(iot_2014H2[kw_list[1]])))\n",
    "    person2 = 1-person1\n",
    "    x = (person1, person2)\n",
    "    gtrends2014H2.append(x)\n",
    "  #prints each\n",
    "  #print(x)\n",
    "\n",
    "\n",
    "kw_list = [searchState(n) for n in names2]\n"
   ]
  },
  {
   "cell_type": "code",
   "execution_count": 25,
   "metadata": {
    "collapsed": true
   },
   "outputs": [],
   "source": [
    "gtrends2014H3 = []\n",
    "def searchState(kw_list):\n",
    "    pytrend.build_payload(kw_list, geo = 'US',  timeframe = '2014-01-01 2014-11-04')\n",
    "    time.sleep(6)\n",
    "    iot_2014H3 = pytrend.interest_over_time()\n",
    "    person1 = (sum(iot_2014H3[kw_list[0]]))/ ((sum(iot_2014H3[kw_list[0]])) + (sum(iot_2014H3[kw_list[1]])))\n",
    "    person2 = 1-person1\n",
    "    x = (person1, person2)\n",
    "    gtrends2014H3.append(x)\n",
    "  #prints each\n",
    "  #print(x)\n",
    "\n",
    "\n",
    "kw_list = [searchState(n) for n in names3]"
   ]
  },
  {
   "cell_type": "code",
   "execution_count": 30,
   "metadata": {},
   "outputs": [
    {
     "ename": "ResponseError",
     "evalue": "The request failed: Google returned a response with code 429.",
     "output_type": "error",
     "traceback": [
      "\u001b[1;31m---------------------------------------------------------------------------\u001b[0m",
      "\u001b[1;31mResponseError\u001b[0m                             Traceback (most recent call last)",
      "\u001b[1;32m<ipython-input-30-891d1b07e7de>\u001b[0m in \u001b[0;36m<module>\u001b[1;34m()\u001b[0m\n\u001b[0;32m     12\u001b[0m \u001b[1;33m\u001b[0m\u001b[0m\n\u001b[0;32m     13\u001b[0m \u001b[1;33m\u001b[0m\u001b[0m\n\u001b[1;32m---> 14\u001b[1;33m \u001b[0mkw_list\u001b[0m \u001b[1;33m=\u001b[0m \u001b[1;33m[\u001b[0m\u001b[0msearchState\u001b[0m\u001b[1;33m(\u001b[0m\u001b[0mn\u001b[0m\u001b[1;33m)\u001b[0m \u001b[1;32mfor\u001b[0m \u001b[0mn\u001b[0m \u001b[1;32min\u001b[0m \u001b[0mnames4\u001b[0m\u001b[1;33m]\u001b[0m\u001b[1;33m\u001b[0m\u001b[0m\n\u001b[0m",
      "\u001b[1;32m<ipython-input-30-891d1b07e7de>\u001b[0m in \u001b[0;36m<listcomp>\u001b[1;34m(.0)\u001b[0m\n\u001b[0;32m     12\u001b[0m \u001b[1;33m\u001b[0m\u001b[0m\n\u001b[0;32m     13\u001b[0m \u001b[1;33m\u001b[0m\u001b[0m\n\u001b[1;32m---> 14\u001b[1;33m \u001b[0mkw_list\u001b[0m \u001b[1;33m=\u001b[0m \u001b[1;33m[\u001b[0m\u001b[0msearchState\u001b[0m\u001b[1;33m(\u001b[0m\u001b[0mn\u001b[0m\u001b[1;33m)\u001b[0m \u001b[1;32mfor\u001b[0m \u001b[0mn\u001b[0m \u001b[1;32min\u001b[0m \u001b[0mnames4\u001b[0m\u001b[1;33m]\u001b[0m\u001b[1;33m\u001b[0m\u001b[0m\n\u001b[0m",
      "\u001b[1;32m<ipython-input-30-891d1b07e7de>\u001b[0m in \u001b[0;36msearchState\u001b[1;34m(kw_list)\u001b[0m\n\u001b[0;32m      1\u001b[0m \u001b[0mgtrends2014H4\u001b[0m \u001b[1;33m=\u001b[0m \u001b[1;33m[\u001b[0m\u001b[1;33m]\u001b[0m\u001b[1;33m\u001b[0m\u001b[0m\n\u001b[0;32m      2\u001b[0m \u001b[1;32mdef\u001b[0m \u001b[0msearchState\u001b[0m\u001b[1;33m(\u001b[0m\u001b[0mkw_list\u001b[0m\u001b[1;33m)\u001b[0m\u001b[1;33m:\u001b[0m\u001b[1;33m\u001b[0m\u001b[0m\n\u001b[1;32m----> 3\u001b[1;33m     \u001b[0mpytrend\u001b[0m\u001b[1;33m.\u001b[0m\u001b[0mbuild_payload\u001b[0m\u001b[1;33m(\u001b[0m\u001b[0mkw_list\u001b[0m\u001b[1;33m,\u001b[0m \u001b[0mgeo\u001b[0m \u001b[1;33m=\u001b[0m \u001b[1;34m'US'\u001b[0m\u001b[1;33m,\u001b[0m  \u001b[0mtimeframe\u001b[0m \u001b[1;33m=\u001b[0m \u001b[1;34m'2014-01-01 2014-11-04'\u001b[0m\u001b[1;33m)\u001b[0m\u001b[1;33m\u001b[0m\u001b[0m\n\u001b[0m\u001b[0;32m      4\u001b[0m     \u001b[0mtime\u001b[0m\u001b[1;33m.\u001b[0m\u001b[0msleep\u001b[0m\u001b[1;33m(\u001b[0m\u001b[1;36m6\u001b[0m\u001b[1;33m)\u001b[0m\u001b[1;33m\u001b[0m\u001b[0m\n\u001b[0;32m      5\u001b[0m     \u001b[0miot_2014H4\u001b[0m \u001b[1;33m=\u001b[0m \u001b[0mpytrend\u001b[0m\u001b[1;33m.\u001b[0m\u001b[0minterest_over_time\u001b[0m\u001b[1;33m(\u001b[0m\u001b[1;33m)\u001b[0m\u001b[1;33m\u001b[0m\u001b[0m\n",
      "\u001b[1;32mC:\\Users\\catjm\\Anaconda3\\lib\\site-packages\\pytrends\\request.py\u001b[0m in \u001b[0;36mbuild_payload\u001b[1;34m(self, kw_list, cat, timeframe, geo, gprop)\u001b[0m\n\u001b[0;32m    106\u001b[0m         \u001b[0mself\u001b[0m\u001b[1;33m.\u001b[0m\u001b[0mtoken_payload\u001b[0m\u001b[1;33m[\u001b[0m\u001b[1;34m'req'\u001b[0m\u001b[1;33m]\u001b[0m \u001b[1;33m=\u001b[0m \u001b[0mjson\u001b[0m\u001b[1;33m.\u001b[0m\u001b[0mdumps\u001b[0m\u001b[1;33m(\u001b[0m\u001b[0mself\u001b[0m\u001b[1;33m.\u001b[0m\u001b[0mtoken_payload\u001b[0m\u001b[1;33m[\u001b[0m\u001b[1;34m'req'\u001b[0m\u001b[1;33m]\u001b[0m\u001b[1;33m)\u001b[0m\u001b[1;33m\u001b[0m\u001b[0m\n\u001b[0;32m    107\u001b[0m         \u001b[1;31m# get tokens\u001b[0m\u001b[1;33m\u001b[0m\u001b[1;33m\u001b[0m\u001b[0m\n\u001b[1;32m--> 108\u001b[1;33m         \u001b[0mself\u001b[0m\u001b[1;33m.\u001b[0m\u001b[0m_tokens\u001b[0m\u001b[1;33m(\u001b[0m\u001b[1;33m)\u001b[0m\u001b[1;33m\u001b[0m\u001b[0m\n\u001b[0m\u001b[0;32m    109\u001b[0m         \u001b[1;32mreturn\u001b[0m\u001b[1;33m\u001b[0m\u001b[0m\n\u001b[0;32m    110\u001b[0m \u001b[1;33m\u001b[0m\u001b[0m\n",
      "\u001b[1;32mC:\\Users\\catjm\\Anaconda3\\lib\\site-packages\\pytrends\\request.py\u001b[0m in \u001b[0;36m_tokens\u001b[1;34m(self)\u001b[0m\n\u001b[0;32m    117\u001b[0m             \u001b[0mmethod\u001b[0m\u001b[1;33m=\u001b[0m\u001b[0mTrendReq\u001b[0m\u001b[1;33m.\u001b[0m\u001b[0mGET_METHOD\u001b[0m\u001b[1;33m,\u001b[0m\u001b[1;33m\u001b[0m\u001b[0m\n\u001b[0;32m    118\u001b[0m             \u001b[0mparams\u001b[0m\u001b[1;33m=\u001b[0m\u001b[0mself\u001b[0m\u001b[1;33m.\u001b[0m\u001b[0mtoken_payload\u001b[0m\u001b[1;33m,\u001b[0m\u001b[1;33m\u001b[0m\u001b[0m\n\u001b[1;32m--> 119\u001b[1;33m             \u001b[0mtrim_chars\u001b[0m\u001b[1;33m=\u001b[0m\u001b[1;36m4\u001b[0m\u001b[1;33m,\u001b[0m\u001b[1;33m\u001b[0m\u001b[0m\n\u001b[0m\u001b[0;32m    120\u001b[0m         )['widgets']\n\u001b[0;32m    121\u001b[0m \u001b[1;33m\u001b[0m\u001b[0m\n",
      "\u001b[1;32mC:\\Users\\catjm\\Anaconda3\\lib\\site-packages\\pytrends\\request.py\u001b[0m in \u001b[0;36m_get_data\u001b[1;34m(self, url, method, trim_chars, **kwargs)\u001b[0m\n\u001b[0;32m     86\u001b[0m             \u001b[1;31m# is not allowed by Google\u001b[0m\u001b[1;33m\u001b[0m\u001b[1;33m\u001b[0m\u001b[0m\n\u001b[0;32m     87\u001b[0m             raise exceptions.ResponseError('The request failed: Google returned a '\n\u001b[1;32m---> 88\u001b[1;33m                                            'response with code {0}.'.format(response.status_code), response=response)\n\u001b[0m\u001b[0;32m     89\u001b[0m \u001b[1;33m\u001b[0m\u001b[0m\n\u001b[0;32m     90\u001b[0m     \u001b[1;32mdef\u001b[0m \u001b[0mbuild_payload\u001b[0m\u001b[1;33m(\u001b[0m\u001b[0mself\u001b[0m\u001b[1;33m,\u001b[0m \u001b[0mkw_list\u001b[0m\u001b[1;33m,\u001b[0m \u001b[0mcat\u001b[0m\u001b[1;33m=\u001b[0m\u001b[1;36m0\u001b[0m\u001b[1;33m,\u001b[0m \u001b[0mtimeframe\u001b[0m\u001b[1;33m=\u001b[0m\u001b[1;34m'today 5-y'\u001b[0m\u001b[1;33m,\u001b[0m \u001b[0mgeo\u001b[0m\u001b[1;33m=\u001b[0m\u001b[1;34m''\u001b[0m\u001b[1;33m,\u001b[0m \u001b[0mgprop\u001b[0m\u001b[1;33m=\u001b[0m\u001b[1;34m''\u001b[0m\u001b[1;33m)\u001b[0m\u001b[1;33m:\u001b[0m\u001b[1;33m\u001b[0m\u001b[0m\n",
      "\u001b[1;31mResponseError\u001b[0m: The request failed: Google returned a response with code 429."
     ]
    }
   ],
   "source": [
    "gtrends2014H4 = []\n",
    "def searchState(kw_list):\n",
    "    pytrend.build_payload(kw_list, geo = 'US',  timeframe = '2014-01-01 2014-11-04')\n",
    "    time.sleep(6)\n",
    "    iot_2014H4 = pytrend.interest_over_time()\n",
    "    person1 = (sum(iot_2014H4[kw_list[0]]))/ ((sum(iot_2014H4[kw_list[0]])) + (sum(iot_2014H4[kw_list[1]])))\n",
    "    person2 = 1-person1\n",
    "    x = (person1, person2)\n",
    "    gtrends2014H4.append(x)\n",
    "  #prints each\n",
    "  #print(x)\n",
    "\n",
    "\n",
    "kw_list = [searchState(n) for n in names4]"
   ]
  },
  {
   "cell_type": "code",
   "execution_count": null,
   "metadata": {
    "collapsed": true
   },
   "outputs": [],
   "source": [
    "gtrends2014H5 = []\n",
    "def searchState(kw_list):\n",
    "    pytrend.build_payload(kw_list, geo = 'US',  timeframe = '2014-01-01 2014-11-04')\n",
    "    time.sleep(6)\n",
    "    iot_2014H5 = pytrend.interest_over_time()\n",
    "    person1 = (sum(iot_2014H5[kw_list[0]]))/ ((sum(iot_2014H5[kw_list[0]])) + (sum(iot_2014H5[kw_list[1]])))\n",
    "    person2 = 1-person1\n",
    "    x = (person1, person2)\n",
    "    gtrends2014H5.append(x)\n",
    "  #prints each\n",
    "  #print(x)\n",
    "\n",
    "\n",
    "kw_list = [searchState(n) for n in names5]"
   ]
  },
  {
   "cell_type": "code",
   "execution_count": null,
   "metadata": {
    "collapsed": true
   },
   "outputs": [],
   "source": [
    "gtrends2014HSUM = gtrends2014H1 + gtrends2014H2 + gtrends2014H3 + gtrends2014H4 + gtrends2014H5 "
   ]
  },
  {
   "cell_type": "code",
   "execution_count": null,
   "metadata": {
    "collapsed": true
   },
   "outputs": [],
   "source": [
    "from pprint import pprint\n",
    "gtrends12HSUM = ([item for c_list in gtrends2012HSUM for item in c_list])\n",
    "# https://stackoverflow.com/questions/22882143/split-lists-within-list\n",
    "gtrends12H = pd.DataFrame(np.array(gtrends12HSUM))\n",
    "df_gtrends_2014H = gtrends12H.rename(columns={0 : 'Percent Searched'})\n"
   ]
  },
  {
   "cell_type": "code",
   "execution_count": null,
   "metadata": {
    "collapsed": true
   },
   "outputs": [],
   "source": [
    "df2 = pd.read_excel('2014House.xlsx')\n",
    "\n",
    "df_vote2 = df2[[\"GENERAL %\" , \"D\" , \"CANDIDATE NAME\" , \"STATE\"]]\n",
    "\n",
    "df_real_vote2 = df_vote2[(df2[\"GENERAL %\"]) > .01]\n",
    "\n",
    "df_2014_House = df_real_vote2[df_real_vote2[\"CANDIDATE NAME\"].str.contains(\"Scattered\")==False] \n",
    "\n",
    "df_2014H = df_2014_House.reset_index(inplace = False)"
   ]
  },
  {
   "cell_type": "code",
   "execution_count": null,
   "metadata": {
    "collapsed": true
   },
   "outputs": [],
   "source": [
    "df_2014H = df_2014H[[\"CANDIDATE NAME\" , \"GENERAL %\"]]\n",
    "\n",
    "df_2014H.join(df_gtrends_2014H, how = \"left\")"
   ]
  }
 ],
 "metadata": {
  "kernelspec": {
   "display_name": "Python 3",
   "language": "python",
   "name": "python3"
  },
  "language_info": {
   "codemirror_mode": {
    "name": "ipython",
    "version": 3
   },
   "file_extension": ".py",
   "mimetype": "text/x-python",
   "name": "python",
   "nbconvert_exporter": "python",
   "pygments_lexer": "ipython3",
   "version": "3.6.1"
  }
 },
 "nbformat": 4,
 "nbformat_minor": 2
}
