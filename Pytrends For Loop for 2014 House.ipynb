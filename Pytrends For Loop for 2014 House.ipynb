{
 "cells": [
  {
   "cell_type": "code",
   "execution_count": 83,
   "metadata": {},
   "outputs": [
    {
     "ename": "ResponseError",
     "evalue": "The request failed: Google returned a response with code 503.",
     "output_type": "error",
     "traceback": [
      "\u001b[1;31m---------------------------------------------------------------------------\u001b[0m",
      "\u001b[1;31mResponseError\u001b[0m                             Traceback (most recent call last)",
      "\u001b[1;32m<ipython-input-83-d700dd8d20f1>\u001b[0m in \u001b[0;36m<module>\u001b[1;34m()\u001b[0m\n\u001b[0;32m     24\u001b[0m \u001b[1;33m\u001b[0m\u001b[0m\n\u001b[0;32m     25\u001b[0m \u001b[1;33m\u001b[0m\u001b[0m\n\u001b[1;32m---> 26\u001b[1;33m \u001b[0mkw_list\u001b[0m \u001b[1;33m=\u001b[0m \u001b[1;33m[\u001b[0m\u001b[0msearchState\u001b[0m\u001b[1;33m(\u001b[0m\u001b[0mn\u001b[0m\u001b[1;33m)\u001b[0m \u001b[1;32mfor\u001b[0m \u001b[0mn\u001b[0m \u001b[1;32min\u001b[0m \u001b[0mnames\u001b[0m\u001b[1;33m]\u001b[0m\u001b[1;33m\u001b[0m\u001b[0m\n\u001b[0m\u001b[0;32m     27\u001b[0m \u001b[1;33m\u001b[0m\u001b[0m\n\u001b[0;32m     28\u001b[0m \u001b[1;31m#prints all\u001b[0m\u001b[1;33m\u001b[0m\u001b[1;33m\u001b[0m\u001b[0m\n",
      "\u001b[1;32m<ipython-input-83-d700dd8d20f1>\u001b[0m in \u001b[0;36m<listcomp>\u001b[1;34m(.0)\u001b[0m\n\u001b[0;32m     24\u001b[0m \u001b[1;33m\u001b[0m\u001b[0m\n\u001b[0;32m     25\u001b[0m \u001b[1;33m\u001b[0m\u001b[0m\n\u001b[1;32m---> 26\u001b[1;33m \u001b[0mkw_list\u001b[0m \u001b[1;33m=\u001b[0m \u001b[1;33m[\u001b[0m\u001b[0msearchState\u001b[0m\u001b[1;33m(\u001b[0m\u001b[0mn\u001b[0m\u001b[1;33m)\u001b[0m \u001b[1;32mfor\u001b[0m \u001b[0mn\u001b[0m \u001b[1;32min\u001b[0m \u001b[0mnames\u001b[0m\u001b[1;33m]\u001b[0m\u001b[1;33m\u001b[0m\u001b[0m\n\u001b[0m\u001b[0;32m     27\u001b[0m \u001b[1;33m\u001b[0m\u001b[0m\n\u001b[0;32m     28\u001b[0m \u001b[1;31m#prints all\u001b[0m\u001b[1;33m\u001b[0m\u001b[1;33m\u001b[0m\u001b[0m\n",
      "\u001b[1;32m<ipython-input-83-d700dd8d20f1>\u001b[0m in \u001b[0;36msearchState\u001b[1;34m(kw_list)\u001b[0m\n\u001b[0;32m     13\u001b[0m \u001b[1;33m\u001b[0m\u001b[0m\n\u001b[0;32m     14\u001b[0m \u001b[1;32mdef\u001b[0m \u001b[0msearchState\u001b[0m\u001b[1;33m(\u001b[0m\u001b[0mkw_list\u001b[0m\u001b[1;33m)\u001b[0m\u001b[1;33m:\u001b[0m\u001b[1;33m\u001b[0m\u001b[0m\n\u001b[1;32m---> 15\u001b[1;33m     \u001b[0mpytrend\u001b[0m\u001b[1;33m.\u001b[0m\u001b[0mbuild_payload\u001b[0m\u001b[1;33m(\u001b[0m\u001b[0mkw_list\u001b[0m\u001b[1;33m,\u001b[0m \u001b[0mgeo\u001b[0m \u001b[1;33m=\u001b[0m \u001b[1;34m'US'\u001b[0m\u001b[1;33m,\u001b[0m  \u001b[0mtimeframe\u001b[0m \u001b[1;33m=\u001b[0m \u001b[1;34m'2014-01-01 2014-11-04'\u001b[0m\u001b[1;33m)\u001b[0m\u001b[1;33m\u001b[0m\u001b[0m\n\u001b[0m\u001b[0;32m     16\u001b[0m     \u001b[0mtime\u001b[0m\u001b[1;33m.\u001b[0m\u001b[0msleep\u001b[0m\u001b[1;33m(\u001b[0m\u001b[1;36m6\u001b[0m\u001b[1;33m)\u001b[0m\u001b[1;33m\u001b[0m\u001b[0m\n\u001b[0;32m     17\u001b[0m     \u001b[0miot_2014H\u001b[0m \u001b[1;33m=\u001b[0m \u001b[0mpytrend\u001b[0m\u001b[1;33m.\u001b[0m\u001b[0minterest_over_time\u001b[0m\u001b[1;33m(\u001b[0m\u001b[1;33m)\u001b[0m\u001b[1;33m\u001b[0m\u001b[0m\n",
      "\u001b[1;32m~\\Anaconda3\\lib\\site-packages\\pytrends\\request.py\u001b[0m in \u001b[0;36mbuild_payload\u001b[1;34m(self, kw_list, cat, timeframe, geo, gprop)\u001b[0m\n\u001b[0;32m    106\u001b[0m         \u001b[0mself\u001b[0m\u001b[1;33m.\u001b[0m\u001b[0mtoken_payload\u001b[0m\u001b[1;33m[\u001b[0m\u001b[1;34m'req'\u001b[0m\u001b[1;33m]\u001b[0m \u001b[1;33m=\u001b[0m \u001b[0mjson\u001b[0m\u001b[1;33m.\u001b[0m\u001b[0mdumps\u001b[0m\u001b[1;33m(\u001b[0m\u001b[0mself\u001b[0m\u001b[1;33m.\u001b[0m\u001b[0mtoken_payload\u001b[0m\u001b[1;33m[\u001b[0m\u001b[1;34m'req'\u001b[0m\u001b[1;33m]\u001b[0m\u001b[1;33m)\u001b[0m\u001b[1;33m\u001b[0m\u001b[0m\n\u001b[0;32m    107\u001b[0m         \u001b[1;31m# get tokens\u001b[0m\u001b[1;33m\u001b[0m\u001b[1;33m\u001b[0m\u001b[0m\n\u001b[1;32m--> 108\u001b[1;33m         \u001b[0mself\u001b[0m\u001b[1;33m.\u001b[0m\u001b[0m_tokens\u001b[0m\u001b[1;33m(\u001b[0m\u001b[1;33m)\u001b[0m\u001b[1;33m\u001b[0m\u001b[0m\n\u001b[0m\u001b[0;32m    109\u001b[0m         \u001b[1;32mreturn\u001b[0m\u001b[1;33m\u001b[0m\u001b[0m\n\u001b[0;32m    110\u001b[0m \u001b[1;33m\u001b[0m\u001b[0m\n",
      "\u001b[1;32m~\\Anaconda3\\lib\\site-packages\\pytrends\\request.py\u001b[0m in \u001b[0;36m_tokens\u001b[1;34m(self)\u001b[0m\n\u001b[0;32m    117\u001b[0m             \u001b[0mmethod\u001b[0m\u001b[1;33m=\u001b[0m\u001b[0mTrendReq\u001b[0m\u001b[1;33m.\u001b[0m\u001b[0mGET_METHOD\u001b[0m\u001b[1;33m,\u001b[0m\u001b[1;33m\u001b[0m\u001b[0m\n\u001b[0;32m    118\u001b[0m             \u001b[0mparams\u001b[0m\u001b[1;33m=\u001b[0m\u001b[0mself\u001b[0m\u001b[1;33m.\u001b[0m\u001b[0mtoken_payload\u001b[0m\u001b[1;33m,\u001b[0m\u001b[1;33m\u001b[0m\u001b[0m\n\u001b[1;32m--> 119\u001b[1;33m             \u001b[0mtrim_chars\u001b[0m\u001b[1;33m=\u001b[0m\u001b[1;36m4\u001b[0m\u001b[1;33m,\u001b[0m\u001b[1;33m\u001b[0m\u001b[0m\n\u001b[0m\u001b[0;32m    120\u001b[0m         )['widgets']\n\u001b[0;32m    121\u001b[0m \u001b[1;33m\u001b[0m\u001b[0m\n",
      "\u001b[1;32m~\\Anaconda3\\lib\\site-packages\\pytrends\\request.py\u001b[0m in \u001b[0;36m_get_data\u001b[1;34m(self, url, method, trim_chars, **kwargs)\u001b[0m\n\u001b[0;32m     86\u001b[0m             \u001b[1;31m# is not allowed by Google\u001b[0m\u001b[1;33m\u001b[0m\u001b[1;33m\u001b[0m\u001b[0m\n\u001b[0;32m     87\u001b[0m             raise exceptions.ResponseError('The request failed: Google returned a '\n\u001b[1;32m---> 88\u001b[1;33m                                            'response with code {0}.'.format(response.status_code), response=response)\n\u001b[0m\u001b[0;32m     89\u001b[0m \u001b[1;33m\u001b[0m\u001b[0m\n\u001b[0;32m     90\u001b[0m     \u001b[1;32mdef\u001b[0m \u001b[0mbuild_payload\u001b[0m\u001b[1;33m(\u001b[0m\u001b[0mself\u001b[0m\u001b[1;33m,\u001b[0m \u001b[0mkw_list\u001b[0m\u001b[1;33m,\u001b[0m \u001b[0mcat\u001b[0m\u001b[1;33m=\u001b[0m\u001b[1;36m0\u001b[0m\u001b[1;33m,\u001b[0m \u001b[0mtimeframe\u001b[0m\u001b[1;33m=\u001b[0m\u001b[1;34m'today 5-y'\u001b[0m\u001b[1;33m,\u001b[0m \u001b[0mgeo\u001b[0m\u001b[1;33m=\u001b[0m\u001b[1;34m''\u001b[0m\u001b[1;33m,\u001b[0m \u001b[0mgprop\u001b[0m\u001b[1;33m=\u001b[0m\u001b[1;34m''\u001b[0m\u001b[1;33m)\u001b[0m\u001b[1;33m:\u001b[0m\u001b[1;33m\u001b[0m\u001b[0m\n",
      "\u001b[1;31mResponseError\u001b[0m: The request failed: Google returned a response with code 503."
     ]
    }
   ],
   "source": [
    "from pytrends.request import TrendReq\n",
    "import pandas as pd\n",
    "import numpy as np\n",
    "import time\n",
    "pytrend = TrendReq()\n",
    "\n",
    "\n",
    "names = [['Bradley Byrne', 'Burton R. LeFlore'], ['Martha Roby', 'Erick Wright'], ['Mike Rogers', 'Jesse Smith'], ['Robert Aderholt', 'All Others'], ['Mo Brooks', 'Mark Bray'], ['Gary Palmer', 'Mark Lester'], ['Terri Sewell', 'All Others'], ['Don Young', 'Forrest Dunbar'],['Ann Kirkpatrick', 'Andy Tobin'], ['Martha McSally', 'Ron Barber'], ['Raul Grijalva', 'Gabby Mercer Saucedo'], ['Paul Gosar', 'Mike Weisser'], ['Matt Salmon', 'James Woods'], ['David Schweikert', 'John Williamson'], ['Ruben Gallego', 'Joe Cobb'],['Trent Franks', 'Stephen Dolgos'], ['Kyrsten Sinema', 'Wendy Rogers'], ['Rick Crawford', 'Jackie McPherson'], ['French Hill', 'Patrick Henry Hays'], ['Steve Womack', 'Grant Brand'], ['Bruce Westerman', 'James Lee Witt'],['Doug La Malfa', 'Heidi Hall'], ['Jared Huffman', 'Dale K Mensing'], ['John Garamendi', 'Dan Logue'], ['Tom McClintock', 'Arthur Moore'], ['Mike Thompson', 'James Hinton'], ['Doris Matsui', 'Joseph McCray'],['Ami Bera','Dough Ose'], ['Paul Cook', 'Bob Conaway'], ['Jerry McNerney', 'Antonio C Amador'], ['Jeff Denham', 'Michael Eggman'], ['Mark Desaulnier', 'Tue Phan'],['Nancy Pelosi', 'John Dennis'], ['Barbara Lee', 'Dakin Sundeen'], ['Jackie Speier', 'Robin Chew'], ['Eric Swalwell', 'Hugh Bussell'], ['Jim Costa', 'Johnny Tacherra'], ['Mike Honda', 'Ro Khanna'],['Anna G Eshoo', 'Richard B Fox'],['Zoe Lofgren', 'Robert Murray'],['Sam Farr', 'Ronald Paul Kabat'], ['David Valadao', 'Amanda Renteria'], ['Devin Nunes', 'Suzanna Augilera-Marrero'],['Kevin McCarthy', 'Raul Garcia'],['Lois Capps', 'Chris Mitchum'],['Steve Knight', 'Tony Strickland'],['Julia Brownley', 'Jeff Gorell'],['Judy Chu', 'Jack Orswell'],['Adam Schiff','Steve Stokes'],['Tony Cardenas', 'William O’Callaghan Leader'],['Brad Sherman', 'Mark S Reed'],['Pete Aguilar', 'Paul Chabot'],['Grace F Napolitano', 'Arturo Enrique Alas'],['Ted Lieu', 'Elan Carr'],['Xavier Becerra', 'Adrienne Nicole Edwards'], ['Norma Torres', 'Christina Gagnier'], ['Raul Ruiz', 'Brian Nestande'],['Karen Bass', 'Adam R King'],['Linda T Sanchez', 'Benjamin Campos'],['Ed Royce', 'Peter Anderson'], ['Lucille Roybal-Allard', 'David Sanchez'],['Mark Takano', 'Steve Adams'],['Ken Calvert', 'Tim Sheridan'],['Maxine Waters', 'John Wood Jr.'],['Janice Hahn', 'Adam Shbeita'], ['Mimi Walters', 'Drew Leavens'],['Loretta Sanchez', 'Adam Nick'],['Alan Lowenthal', 'Andy Whallon'], ['Dana Rohrabacher', 'Suzanna Savary'],['Darrell Issa', 'Dave Peiser'],['Duncan Hunter', 'James Kimber'],['Juan Vargas', 'Stephen Meade'],['Scott Peters', 'Carl DeMaio'],['Susan Davis', 'Larry Wilske'], ['Diana DeGette', 'Martin Walsh'], ['Jared Polis', 'George Leing'], ['Scott Tipton', 'Abel Tapia'], ['Ken Buck', 'Vic Meyers'], ['Doug Lamborn', 'Irv Halter'], ['Mike Coffman', 'Andrew Romanoff'], ['Ed Perlmutter', 'Don Ytterberg'],['John Larson', 'Matthew Corey'],['Joe Courtney', 'Lori Hopkins-Cavanagh'],[ 'Rosa Delauro', 'James E Brown'],['Jim Himes', 'Dan Debicella'],['Elizabeth Esty', 'Mark Greenberg'],['John Carney Jr','Rose Izzo'],['Jeff Miller', 'Jim Bryan'],['Gwen Graham','Steve Southerland'],['Ted Yoho', 'Marihelen Wheeler'],['Ander Crenshaw', 'Paula Moser-Bartlett'],['Corrine Brown', 'Glo Smith'],['Ron DeSantis', 'David Cox'],['John Mica', 'Wes Neuman'],['Bill Posey', 'Gabriel Rothblatt'],['Alan Grayson', 'Carol Platt'],['Daniel Webster', 'Michael McKenna'],['Richard Nugent', 'Dave Koller'],['David W Jolly', 'Lucas Overby'],['Dennis A. Ross', 'Alan M Cohn'],['Vern Buchanan', 'Henry Lawrence'],['Tom Rooney', 'Will Bronson'],['Patrick Murphy', 'Carl J Domino'], ['Curt Clawson', 'April Freeman'],['Alcee L Hastings', 'Jay Bonner'],['Ted Deutch', 'Michael W Trout'],['Lois Frankel', 'Paul Spain'],['Debbie Wasserman Schultz', 'Joseph Kaufman'],['Frederica S Wilson', 'Dufirstson Julio Neree'],['Carlos Curbelo', 'Joe Garcia'],['Buddy Carter', 'Brian Corwin Reese'],['Sanford Bishop', 'Gregory P. Duke'],['Lynn Acton Westmoreland', 'All Others'],['Hank Johnson', 'Raymond L Davis'],['John R Lewis', 'All Others'],['Thomas E Price', 'Robert G Montigel'],['William Robert Woodall', 'Thomas Dee Wight'],['James Austin Scott', 'Ronald L Cain'],['Douglas Allen Collins', 'David Donald Vogel'],['Jody B Hice', 'Ivory Kenneth Dious'],['Barry D Loudermilk', 'All Others' ],['Richard Allen', 'John Jenkins Barrow'], ['Mark Takai', 'Charles Djou'], ['Tulsi Gabbard', 'Kawika Crowley'], ['Raul R Labrador', 'Shirley G Ringo'], ['Mike Simpson', 'Richard Stallings'], ['Bobby L Rush', 'Jimmy Lee Tillman'],['Robin Kelly', 'Eric M Wallace'], ['Daniel William Lipinski, Sharon M Brannigan'],['Luis V Gutierrez', 'Hector Concepcion'], ['Mike Quigley', 'Vince Kolber'], ['Peter Roskam', 'Michael Mason'], ['Danny K Davis', 'Robert L Bumpers'], ['Tammy Duckworth','Larry Kaifesh'],['Janice Schakowsky', 'Susanne Atanus'],['Robert Dold', 'Brad Schneider'],['Bill Foster', 'Darlene Senger'],['Mike Bost', 'William L Enyart'],['Rodney Davis', 'Ann Callis'],['Randall M Hultgren', 'Dennis Anderson'],['John M Shimkus', 'Eric Thorsland'],['Adam Kinzinger', 'Randall Wayne Olsen'],['Cheri Bustos', 'Bobby Schilling'], ['Aaron Schock', 'Darrel Miller'],['Peter Visclosky', 'Mark Leyva'],['Jackie Walorski', 'Joe Bock '],['Marlin A Stutzman', 'Justin Kuhnle '],['Todd Rokita', 'John Dale '],['Susan Brooks', 'Shawn A Denney '],['Luke Messer', 'Susan Hall Heitzman '],['Andre Carson', 'Catherine Ping'],['Larry D Bucshon', 'Tom Spangler'],['Todd Young', 'Bill Bailey'], ['Rod Blum', 'Pat Murphy'],['Dave Loebsack', 'Mariannette Miller-Meeks'], ['David Young', 'Staci Appel'], ['Steve King', 'Jim Mowrer'], ['Tim Huelskamp', 'James E Sherow'], ['Lynn Jenkins', 'Margie Wakefield'], ['Kevin Yoder', 'Kelly Kultala'] , ['Mike Pompeo', 'Perry L Schuckman'], ['Ed Whitfield', 'Charles Kendall Hatchett'], ['S. Brett Guthrie', 'Ron Leach'], ['John A Yarmuth', 'Michael Macfarlane'], ['Thomas Massie', 'Peter Newberry'], ['Harold Rogers', 'Kenneth S Stepp'], ['Andy Barr', 'Elisabeth Jensen'], [\" Steve Scalise\",\"M.V. Mendoza  \"],[\" Cedric Richmond\",\"Gary Landrieu  \"],[\" Charles W Boustany\",\"Russell Richard  \"],[\" John Fleming\",\"Randall Lord  \"],[\" Jamie Mayo\",\"Ralph Lee Abraham\",\"Zach Dasher   \"],[\" Edwin Edwards\",\"Garret Graves  \"],[\" Chellie Pingree\",\"Isaac Misiuk  \"],[\" Bruce Poliquin\",\"Emily Ann Cain  \"],[\" Andy Harris\",\"Bill Tilghman  \"],[\" C.A. Ruppersberger\",\"David Banach  \"],[\" John Sarbanes\",\"Charles A Long  \"],[\" Donna F Edwards\",\"Nancy Hoyt  \"],[\" Steny H Hoyer\",\"Chris Chaffee  \"],[\" John K Delaney\",\"Dan Bongino  \"],[\" Elijah Cummings\",\"Carrogan Vaughn  \"],[\" Chris Van Hollen\",\"Dave Wallace  \"],[\" Richard E Neal\", \"All Others\"],[\" James P McGovern\",\"James P McGovern  \"],[\" Nicola Tsongas\",\"Roseann Wofford  \"],[\" Joseph P Kennedy III\", \"All Others  \"],[\" Katherine M Clark\", \"All Others  \"],[\" Seth Moulton\",\"Richard Tisei  \"],[\" Michael E Capuano\", \"All Others  \"],[\" Stephen F Lynch\" \"All Others\"],[\" William Richard Keating\",\"John Chapman  \"],[\" Dan Benishek\",\"Jerry Cannon  \"],[\" Bill Huizenga\",\"Dean Vanderstelt  \"],[\" Justin Amash\",\"Bob Goodrich  \"],[\" John Moolenaar\",\"Jeff Holmes  \"],[\" Daniel Kildee\",\"Allen Hardwick  \"],[\" Fred Upton\",\"Paul Clements  \"],[\" Tim Walberg\",\"Pam Byrnes  \"],[\" Mike Bishop\",\"Eric Schertzing  \"],[\" Sander Levin\",\"George Brikho  \"],[\" Candice Miller\",\"Chuck Stadler  \"],[\" Dave Trott\",\"Bobby McKenzie  \"],[\" Debbie Dingell\",\"Terry Bowman  \"],[\" John Conyers\",\"Jeff Gorman  \"],[\" Brenda Lawrence\",\"Christina Barr  \"],[\" Tim Walz\",\"Jim Hagedorn  \"],[\" John Kline\",\"Mike Obermueller  \"],[\" Erik Paulsen\",\"Sharon Sund  \"],[\" Betty McCollum\",\"Sharna Wahlgren  \"],[\" Keith Ellison\",\"Doug Daggett  \"],[\" Tom Emmer\",\"Joe Perske  \"],[\" Collin C Peterson\",\"Torrey Westrom  \"],[\" Rick Nolan\",\"Stewart Mills  \"],[\" Alan Nunnelee\",\"Ron E Dickey  \"],[\" Bennie G Thompson\",\"Troy Ray  \"],[\" Gregg Harper\",\"Douglas MacArthur Magee  \"],[\" Steven McCarty Palazzo\",\"Matt Moore  \"],[\" Lacy Clay\",\"Daniel J Elder  \"],[\" Ann Wagner\",\"Arthur Lieber  \"],[\" Blaine Luetkemeyer\",\"Courtney Denton  \"],[\" Vicky Hartzler\",\"Nate Irvin  \"],[\" Emanuel Cleaver\",\"Jacob Turk  \"],[\" Sam Graves\",\"W.A. Hedge  \"],[\" Billy Long\",\"Jim Evans  \"],[\" Jason Smith\",\"Barbara Stocker  \"],[\" Ryan Zinke\",\"John Lewis  \"],[\" Jeff Fortenberry\",\"Dennis P Crawford  \"],[\" Brad Ashford\",\"Lee Terry  \"],[\" Adrian Smith\",\"Mark Sullivan  \"],[\" Dina Titus\",\"Annette Teijeiro  \"],[\" Mark Amodei\",\"Kristen Spees  \"],[\" Joe Heck\",\"Erin Bilbray  \"],[\" Cresent Hardy\",\"Steven Horsford  \"],[\" Frank Guinta\",\"Carol Shea-Porter  \"],[\" Ann McLane Kuster\",\"Marilinda Garcia  \"],[\" Donald Norcross\",\"Garry W Cobb  \"],[\" Frank LoBiondo\",\"William J Hughes  \"],[\" Tom MacArthur\",\"Aimee Belgard  \"],[\"  Christopher H Smith\",\"Ruben Scolavino  \"],[\" Scott Garrett\",\"Roy Cho  \"],[\" Frank Pallone\",\"Anthony E Wilkinson  \"],[\" Leonard Lance\",\"Janice Kovach  \"],[\" Albio Sires\",\"Jude Anthony Tiscornia  \"],[\" Bill Pascrell\",\"Dierdre Paul  \"],[\" Donald M Payne\",\"Yolanda Dentley  \"],[\" Rodney Frelinghuysen\",\"Mark Dunec  \"],[\" Bonnie Watson Coleman\",\"Alieta Eck  \"],[\" Michelle Grisham\",\"Michael H Frese  \"],[\" Steve Pearce\",\"Roxanne Lara  \"],[\" Ben Lujan\",\"Jefferson Byrd  \"],[\" Lee Zeldin\",\"Timothy Bishop  \"],[\" Peter T King\",\"Patricia Maher  \"],[\" Steve Israel\",\"Grant M Lally  \"],[\" Kathleen M Rice\",\"Bruce A Blakeman  \"],[\" Gregory W Meeks\",\"Allen Steinhardt  \"],[\" Grace Meng\", \"All Others\" ],[\" Nydia M Valezquez\",\"Jose Luis Fernandez  \"],[\" Hakeen S Jeffries\",\"Alan Bellone  \"],[\" Yvette D Clarke\",\"Daniel J Cavanagh  \"],[\" Jerrold L Nadler\",\"Ross Brady  \"],[\" Michael G Grimm\",\"Domenic M Recchia  \"],[\" Carolyn B Maloney\",\"Nicholas Di Iorio  \"],[\" Charles B Rangel\",\"Daniel Vila Rivera  \"],[\" Joseph Crowley\",\"Elizabeth Perri  \"],[\" Jose Serrano\",\"Eduardo Ramirez  \"],[\" Eliot L Engel \", \"All Others\"],[\" Nita M Lowey\",\"Christopher E Day  \"],[\" Sean Patrick Maloney\",\"Nan Hayworth  \"],[\" Christopher P Gibson\",\"Sean S Eldridge  \"],[\" Paul Tonko\",\"James M Fischer  \"],[\" Elise Stefanik\",\"Aaron G Woolf  \"],[\" Richard Hanna\",\"All Others\"],[\" Thomas W Reed\",\"Martha Robertson  \"],[\" John Katko\",\"Daniel Maffei  \"],[\" Louise M Slaughter\",\"Mark W Assini  \"],[\" Brian Higgins\",\"Kathleen Weppner  \"],[\" Chris Collins\",\"James D O’Donnell  \"],[\" G.K. Butterfield\",\"Arthur Rich  \"],[\" Renee Ellmers\",\"Clay Aiken  \"],[\" Walter Jones\",\"Marshall Adame  \"],[\" David Price\",\"Paul Wright  \"],[\" Virginia Foxx\",\"Joshua Brannon  \"],[\" Mark Walker\",\"Laura Fjeld  \"],[\" David Rouzer\",\"Jonathan Barfield  \"],[\" Richard Hudson\",\"Antonio Blue  \"],[\" Robert Pittenger\",\"Shawn Eckles  \"],[\" Patrick McHenry\",\"Tate MacQueen  \"],[\" Mark Meadows\",\"Tom Hill  \"],[\" Alma Adams\",\"Vince Coakley  \"],[\" George Holding\",\"Brenda Cleary  \"],[\" Kevin Cramer\",\"George Sinner  \"],[\" Steve Chabot\",\"Fred Kundrata  \"],[\" Brad Wenstrup\",\"Marek Tyszkiewicz  \"],[\" Joyce B Beatty\",\"John Adams  \"],[\" Jim Jordan\",\"Janet Garrett  \"],[\" Bob Latta\",\"Robert L Fry  \"],[\" Bill Johnson\",\"Jennifer Garrison  \"],[\" Bob Gibbs\",\"All Others\"],[\" John A Boehner\",\"Tom Poetter  \"],[\" Marcy Kaptur\",\"Richard May  \"],[\" Mike Turner\",\"Robert Klepinger  \"],[\" Marcia L Fudge\",\"Mark Zetzer  \"],[\" Pat Tiberi\",\"David Arthur Tibbs  \"],[\" Tim Ryan\",\"Thomas Pekarek  \"],[\" David P Joyce\",\"Michael Wager  \"],[\" Steve Stivers\",\"Scott Wharton  \"],[\" Jim Renacci\",\"Pete Crossland  \"],[\" Markwayne Mullin\",\"Earl E Everett  \"],[\" Frank D Lucas\",\"Frankie Robbins  \"],[\" Tom Cole\",\"Bert Smith  \"],[\" Steve Russell\",\"Al McAffrey  \"],[\" Suzanne Bonamici\",\"Jason Yates  \"],[\" Greg Walden\",\"Aelea Christofferson  \"],[\" Earl Blumenauer\",\"James Buchal  \"],[\" Peter A DeFazio\",\"Art Robinson  \"],[\" Kurt Schrader\",\"Tootie Smith  \"],[\" Robert A. Brady\",\"Megan Rath  \"],[\" Chaka Fattah\",\"Armond James  \"],[\" Mike Kelly\",\"Dan Lavallee  \"],[\" Scott Perry\",\"Linda Deliah Thompson  \"],[\" Glenn Thompson\",\"Kerith Strano Taylor  \"],[\" Ryan Costello\",\"Manan Trivedi  \"],[\" Patrick L Meehan\",\"Mary Ellen Balchunis  \"],[\" Michael G Fitzpatrick\",\"Kevin Strouse  \"],[\" Bill Shuster\",\"Alanna Hartzok  \"],[\" Tom Marino\",\"Scott F Brion  \"],[\" Lou Barletta\",\"Andy Ostrowski  \"],[\" Keith Rothfus\",\"Erin McClelland  \"],[\" Brendan F Boyle\",\"Carsonn Dee Adcock  \"],[\" Mike Doyle\",\"All Others\"],[\" Charles W Dent\",\"All Others\"],[\" Joseph R Pitts\",\"Tom Houghton  \"],[\" Matt Cartwright\",\"David J Moylan  \"],[\" David Cicilline\",\"Cormick Lynch  \"],[\" James R Langevin\",\"Rhue R Reis  \"],[\" Mark Sanford\",\"All Others\"],[\" Joe Wilson\",\"Phil Black  \"],[\" Jeff Duncan\",\"Barbara Jo Mullis  \"],[\" Trey Gowdy\",\"Curtis E McLaughlin  \"],[\" Mick Mulvaney\",\"Tom Adams  \"],[\" James E Clyburn\",\"Anthony Culler  \"],[\" Tom Rice\",\"Gloria Bromell-Tinubu  \"],[\" Kristi Noem\",\"Corinna Robinson  \"],[\" Phil Roe\",\"Robert D Franklin  \"],[\" John J Duncan\",\"Bob Scott  \"],[\" Chuck Fleischmann\",\"Mary M Headrick  \"],[\" Scott DesJarlais\",\"Lenda Sherrell  \"],[\" Jim Cooper\",\"Bob Ries  \"],[\" Diane Black\",\"Amos Scott Powers  \"],[\" Marsha Blackburn\",\"Daniel Cramer  \"],[\" Stephen Lee Fincher\",\"Wes Bradley  \"],[\" Steve Cohen\",\"Charlotte Bergmann  \"],[\" Louie Gohmert\",\"Shirley J McKellar  \"],[\" Ted Poe\",\"Niko Letsos  \"],[\" Sam Johnson\",\"Paul Blair  \"],[\" John Ratcliffe\" \"All Others\"],[\" Jeb Hensarling\",\"Ken Ashby  \"],[\" Joe Barton\",\"David Cozad  \"],[\" John Culberson\",\"James Cargas  \"],[\" Kevin Brady\",\"Ken Petty  \"],[\" Al Green\",\"Johnny Johnson  \"],[\" Michael McCaul\",\"Tawana Walter-Cadien  \"],[\" Mike Conaway\",\"Ryan T Lange  \"],[\" Kay Granger\",\"Mark Greene  \"],[\" Mac Thornberry\",\"Mike Minter  \"],[\" Randy Weber\",\"Donald G Brown  \"],[\" Ruben Hinojosa\",\"Eddie Zamora  \"],[\" Beto O’Rourke\",\"Corey Roen  \"],[\" Bill Flores\",\"Nick Haynes  \"],[\" Sheila Lee Jackson\",\"Sean Seibert  \"],[\" Randy Neugebauer\",\"Neal Marchbanks  \"],[\" Joaquin Castro\",\"Jeffrey C Blunt\"],[\" Lamar Smith\",\"Antonio Diaz  \"],[\" Pete Olson\",\"Frank Briscoe  \"],[\" Will Hurd\",\"Pete P. Gallego  \"],[\" Kenny Marchant\",\"Patrick McGehearty  \"],[\" Roger Williams\",\"Marco Montoya  \"],[\" Michael Burgess\",\"Mark Boler  \"],[\" Blake Farenthold\",\"Wesley Reed  \"],[\" Henry Cuellar\",\"William Aikens  \"],[\" Gene Green\",\"James Stanczak  \"],[\" Eddie Bernice Johnson\",\"Max W Koch  \"],[\"  John Carter\",\"Louie Minor  \"],[\" Pete Sessions\",\"Frank Perez  \"],[\" Marc Veasey\",\"Jason Reeves  \"],[\" Filemon Vela\",\"Larry S Smith  \"],[\" Lloyd Doggett\",\"Susan Narvaiz  \"],[\" Brian Babin\",\"Michael K Cole  \"],[\" Rob Bishop\",\"Donna McAleer  \"],[\" Chris Stewart\",\"Luz Robles  \"],[\" Jason Chaffetz\",\"Brian Wonnacott  \"],[\" Mia B Love\",\"Doug Owens  \"],[\" Peter Welch\",\"Mark Donka  \"],[\" Robert J Wittman\",\"Norman G Mosher  \"],[\" E. Scott Rigell\",\"Suzanne D Patrick  \"],[\" Robert C Scott\",\"All Others  \"],[\" J. Randy Forbes\",\"Elliot G Fausz  \"],[\" Robert Hurt\",\"W. Lawrence Gaughan  \"],[\" Robert W Goodlatte\",\"William M Hammer  \"],[\" Dave A Brat\",\"John K Trammell  \"],[\" Donald S Beyer\",\"Micah K Edmond  \"],[\" H. Morgan Griffith\",\"William R Carr  \"],[\" Barbara J Comstock\",\"John W Foust  \"],[\" Gerald E Connolly\",\"Suzanna K Scholte  \"],[\" Suzan DelBene\",\"Pedro Celis  \"],[\" Rick Larsen\",\"B.J. Guillot  \"],[\" Jaime Herrera Beutler\",\"Bob Dingethal  \"],[\" Dan Newhouse\",\"Clint Didier  \"],[\" Cathy McMorris Rodgers\",\"Joseph Pakootas  \"],[\" Derek Kilmer\",\"Marty McClendon  \"],[\" Jim McDermott\",\"Craig Keller  \"],[\" Dave Reichert\",\"Jason Ritchie  \"],[\" Adam Smith\",\"Doug Basler  \"],[\" Denny Heck\",\"Joyce McDonald  \"],[\" David B McKinley\",\"Glen B Gainer  \"],[\" Alex Mooney\",\"Nick Casey  \"],[\" Evan Jenkins\",\"Nick J Rahall  \"],[\" Paul Ryan\",\"Rob Zerban  \"],[\" Mark Pocan Peter Theron  \"],[\" Ron Kind\",\"Tony Kurtz  \"],[\" Gwen Moore\",\"Dan Sebring  \"],[\" F. James Sensenbrenner\",\"Chris Rockwood  \"],[\" Glenn Grothman\",\"Mark L Harris  \"],[\" Sean Duffy\",\"Kelly Westlund  \"],[\" Reid Ribble\",\"Ron Gruett  \"],[\" Cynthia Lummis\",\"Richard Grayson\"]]\n",
    "#Some names were not the common names or search topics used for the candidate, for example E.L. Carter was Buddy Carter ad Henry C. Johnson was Hank Johnson. \n",
    "#Middle initials were mostly ignored, Matthew M Corey would be Matthew Corey. \n",
    "#Some names yield incorrect data as the candidate shares the name with someone much more popular so they do not show up at all, for example James Brown from CT is substituted for the actor James Brown\n",
    "gtrends2014H = []\n",
    "\n",
    "def searchState(kw_list):\n",
    "    pytrend.build_payload(kw_list, geo = 'US',  timeframe = '2014-01-01 2014-11-04')\n",
    "    time.sleep(6)\n",
    "    iot_2014H = pytrend.interest_over_time()\n",
    "    person1 = (sum(iot_2014H[kw_list[0]]))/ ((sum(iot_2014H[kw_list[0]])) + (sum(iot_2014H[kw_list[1]])))\n",
    "    person2 = 1-person1\n",
    "    x = (person1, person2)\n",
    "    gtrends2014H.append(x)\n",
    "  #prints each\n",
    "  #print(x)\n",
    "\n",
    "\n",
    "kw_list = [searchState(n) for n in names]\n",
    "\n",
    "#prints all\n",
    "#print(gtrends2014H)\n"
   ]
  },
  {
   "cell_type": "code",
   "execution_count": 85,
   "metadata": {},
   "outputs": [
    {
     "data": {
      "text/plain": [
       "[]"
      ]
     },
     "execution_count": 85,
     "metadata": {},
     "output_type": "execute_result"
    }
   ],
   "source": [
    "gtrends2014H"
   ]
  },
  {
   "cell_type": "code",
   "execution_count": 70,
   "metadata": {},
   "outputs": [
    {
     "data": {
      "text/plain": [
       "' \"],[\" Lamar Smith\",\"Antonio Diaz  \"],[\" Pete Olson\",\"Frank Briscoe  \"],[\" Will Hurd\",\"Pete P. Gallego  \"],[\" Kenny Marchant\",\"Patrick McGehearty  \"],[\" Roger Williams\",\"Marco Montoya  \"],[\" Michael Burgess\",\"Mark Boler  \"],[\" Blake Farenthold\",\"Wesley Reed  \"],[\" Henry Cuellar\",\"William Aikens  \"],[\" Gene Green\",\"James Stanczak  \"],[\" Eddie Bernice Johnson\",\"Max W Koch  \"],[\"  John Carter\",\"Louie Minor  \"],[\" Pete Sessions\",\"Frank Perez  \"],[\" Marc Veasey\",\"Jason Reeves  \"],[\" Filemon Vela\",\"Larry S Smith  \"],[\" Lloyd Doggett\",\"Susan Narvaiz  \"],[\" Brian Babin\",\"Michael K Cole  \"],[\" Rob Bishop\",\"Donna McAleer  \"],[\" Chris Stewart\",\"Luz Robles  \"],[\" Jason Chaffetz\",\"Brian Wonnacott  \"],[\" Mia B Love\",\"Doug Owens  \"],[\" Peter Welch\",\"Mark Donka  \"],[\" Robert J Wittman\",\"Norman G Mosher  \"],[\" E. Scott Rigell\",\"Suzanne D Patrick  \"],[\" Robert C Scott\",\"All Others  \"],[\" J. Randy Forbes\",\"Elliot G Fausz  \"],[\" Robert Hurt\",\"W. Lawrence Gaughan  \"],[\" Robert W Goodlatte\",\"William M Hammer  \"],[\" Dave A Brat\",\"John K Trammell  \"],[\" Donald S Beyer\",\"Micah K Edmond  \"],[\" H. Morgan Griffith\",\"William R Carr  \"],[\" Barbara J Comstock\",\"John W Foust  \"],[\" Gerald E Connolly\",\"Suzanna K Scholte  \"],[\" Suzan DelBene\",\"Pedro Celis  \"],[\" Rick Larsen\",\"B.J. Guillot  \"],[\" Jaime Herrera Beutler\",\"Bob Dingethal  \"],[\" Dan Newhouse\",\"Clint Didier  \"],[\" Cathy McMorris Rodgers\",\"Joseph Pakootas  \"],[\" Derek Kilmer\",\"Marty McClendon  \"],[\" Jim McDermott\",\"Craig Keller  \"],[\" Dave Reichert\",\"Jason Ritchie  \"],[\" Adam Smith\",\"Doug Basler  \"],[\" Denny Heck\",\"Joyce McDonald  \"],[\" David B McKinley\",\"Glen B Gainer  \"],[\" Alex Mooney\",\"Nick Casey  \"],[\" Evan Jenkins\",\"Nick J Rahall  \"],[\" Paul Ryan\",\"Rob Zerban  \"],[\" Mark Pocan Peter Theron  \"],[\" Ron Kind\",\"Tony Kurtz  \"],[\" Gwen Moore\",\"Dan Sebring  \"],[\" F. James Sensenbrenner\",\"Chris Rockwood  \"],[\" Glenn Grothman\",\"Mark L Harris  \"],[\" Sean Duffy\",\"Kelly Westlund  \"],[\" Reid Ribble\",\"Ron Gruett  \"],[\" Cynthia Lummis\",\"Richard Grayson'"
      ]
     },
     "execution_count": 70,
     "metadata": {},
     "output_type": "execute_result"
    }
   ],
   "source": [
    "#Trying to standardize the names to put it in the array easily\n",
    "l1 = \"District 21: Lamar Smith, Antonio Diaz District 22: Pete Olson, Frank Briscoe District 23: Will Hurd, Pete P. Gallego District 24: Kenny Marchant, Patrick McGehearty District 25: Roger Williams, Marco Montoya District 26: Michael Burgess, Mark Boler District 27: Blake Farenthold, Wesley Reed District 28: Henry Cuellar, William Aikens District 29: Gene Green, James Stanczak District 30: Eddie Bernice Johnson, Max W Koch District 31:  John Carter, Louie Minor District 32: Pete Sessions, Frank Perez District 33: Marc Veasey, Jason Reeves District 34: Filemon Vela, Larry S Smith District 35: Lloyd Doggett, Susan Narvaiz District 36: Brian Babin, Michael K Cole District 1: Rob Bishop, Donna McAleer District 2: Chris Stewart, Luz Robles District 3: Jason Chaffetz, Brian Wonnacott District 4: Mia B Love, Doug Owens District 0: Peter Welch, Mark Donka District 1: Robert J Wittman, Norman G Mosher District 2: E. Scott Rigell, Suzanne D Patrick District 3: Robert C Scott, All Others District 4: J. Randy Forbes, Elliot G Fausz District 5: Robert Hurt, W. Lawrence Gaughan District 6: Robert W Goodlatte, William M Hammer District 7: Dave A Brat, John K Trammell District 8: Donald S Beyer, Micah K Edmond District 9: H. Morgan Griffith, William R Carr District 10: Barbara J Comstock, John W Foust District 11: Gerald E Connolly, Suzanna K Scholte District 1: Suzan DelBene, Pedro Celis District 2: Rick Larsen, B.J. Guillot District 3: Jaime Herrera Beutler, Bob Dingethal District 4: Dan Newhouse, Clint Didier District 5: Cathy McMorris Rodgers, Joseph Pakootas District 6: Derek Kilmer, Marty McClendon District 7: Jim McDermott, Craig Keller District 8: Dave Reichert, Jason Ritchie District 9: Adam Smith, Doug Basler District 10: Denny Heck, Joyce McDonald District 1: David B McKinley, Glen B Gainer District 2: Alex Mooney, Nick Casey District 3: Evan Jenkins, Nick J Rahall District 1: Paul Ryan, Rob Zerban District 2: Mark Pocan Peter Theron District 3: Ron Kind, Tony Kurtz District 4: Gwen Moore, Dan Sebring District 5: F. James Sensenbrenner, Chris Rockwood District 6: Glenn Grothman, Mark L Harris District 7: Sean Duffy, Kelly Westlund District 8: Reid Ribble, Ron Gruett District 0: Cynthia Lummis, Richard Grayson\"\n",
    "l2 = l1.replace('District','')\n",
    "l3 = ''.join([i for i in l2 if not i.isdigit()])\n",
    "l4 = l3.replace(':', '\"],[\"')\n",
    "l5 = l4.replace(', ', '\",\\\"')\n",
    "l5"
   ]
  },
  {
   "cell_type": "code",
   "execution_count": 67,
   "metadata": {},
   "outputs": [],
   "source": []
  },
  {
   "cell_type": "code",
   "execution_count": 68,
   "metadata": {},
   "outputs": [
    {
     "data": {
      "text/plain": [
       "[(1.0, 0.0),\n",
       " (0.81862745098039214, 0.18137254901960786),\n",
       " (0.11304122374902774, 0.8869587762509723),\n",
       " (0.83161953727506421, 0.16838046272493579),\n",
       " (0.97374701670644392, 0.026252983293556076),\n",
       " (0.92083333333333328, 0.079166666666666718)]"
      ]
     },
     "execution_count": 68,
     "metadata": {},
     "output_type": "execute_result"
    }
   ],
   "source": []
  },
  {
   "cell_type": "code",
   "execution_count": null,
   "metadata": {
    "collapsed": true
   },
   "outputs": [],
   "source": []
  },
  {
   "cell_type": "code",
   "execution_count": 1,
   "metadata": {},
   "outputs": [
    {
     "ename": "SyntaxError",
     "evalue": "invalid syntax (<ipython-input-1-0fbba6cea6d0>, line 1)",
     "output_type": "error",
     "traceback": [
      "\u001b[1;36m  File \u001b[1;32m\"<ipython-input-1-0fbba6cea6d0>\"\u001b[1;36m, line \u001b[1;32m1\u001b[0m\n\u001b[1;33m    mylist = [Bradley Byrne, Burton R. LeFlore, Martha Roby, Erick Wright, Mike Rogers, Jesse Smith, Robert Aderholt, 'All Others']\u001b[0m\n\u001b[1;37m                          ^\u001b[0m\n\u001b[1;31mSyntaxError\u001b[0m\u001b[1;31m:\u001b[0m invalid syntax\n"
     ]
    }
   ],
   "source": []
  }
 ],
 "metadata": {
  "kernelspec": {
   "display_name": "Python 3",
   "language": "python",
   "name": "python3"
  },
  "language_info": {
   "codemirror_mode": {
    "name": "ipython",
    "version": 3
   },
   "file_extension": ".py",
   "mimetype": "text/x-python",
   "name": "python",
   "nbconvert_exporter": "python",
   "pygments_lexer": "ipython3",
   "version": "3.6.2"
  }
 },
 "nbformat": 4,
 "nbformat_minor": 2
}
