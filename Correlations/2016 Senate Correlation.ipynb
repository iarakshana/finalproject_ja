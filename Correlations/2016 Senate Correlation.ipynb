{
 "cells": [
  {
   "cell_type": "code",
   "execution_count": 2,
   "metadata": {},
   "outputs": [],
   "source": [
    "%matplotlib inline\n",
    "import pandas as pd \n",
    "pd.set_option('display.max_rows', None)\n",
    "\n",
    "dfS = pd.read_excel('2016Senate.xlsx')\n",
    "df_vote = dfS[[\"GENERAL %\" , \"CANDIDATE NAME\" , \"STATE\"]]\n",
    "df_real_vote = df_vote[(df_vote[\"GENERAL %\"]) > .1]\n",
    "df_2016_Senate = df_real_vote.reset_index(inplace = False)"
   ]
  },
  {
   "cell_type": "code",
   "execution_count": 1,
   "metadata": {},
   "outputs": [],
   "source": [
    "from pytrends.request import TrendReq\n",
    "import numpy as np\n",
    "pytrend = TrendReq()\n",
    "\n",
    "gtrends2016S = []\n",
    "names = [[\"Richard Shelby\",\"Ron Crumpton\"],[\"Lisa Murkowski\",\"Joe Miller\"],[\"John McCain\",\"Ann Kirkpatrick\"],[\"John Boozman\",\"Conner Eldridge\"],[\"Kamala Harris\",\"Loretta Sanchez\"],[\"Michael Bennet\",\"Darryl Glenn\"],[\"Richard Blumenthal\",\"Dan Carter\"],[\"Marco Rubio\",\"Patrick Murphy\"],[\"Johnny Isakson\",\"Jim Barksdale\"],[\"Brian Schatz\",\"John Carroll\"],[\"Mike Crapo\",\"Jerry Sturgill\"],[\"Tammy Duckworth\",\"Mark Kirk\"],[\"Todd Young\",\"Evan Bayh\"],[\"Chuck Grassley\",\"Patty Judge\"],[\"Jerry Moran\",\"Patrick Wiesner\"],[\"Rand Paul\",\"Jim Gray\"],[\"John Kennedy\",\"Foster Campbell\"],[\"Chris Van Hollen\",\"Kathy Szeliga\"],[\"Roy Blunt\",\"Jason Kander\"],[\"Catherine Cortez Masto\",\"Joe Heck\"],[\"Maggie Hassan\",\"Kelly Ayotte\"],[\"Chuck Schumer\",\"Wendy Long\"],[\"Richard Burr\",\"Deborah Ross\"],[\"John Hoeven\",\"Eliot Glassheim\"],[\"Rob Portman\",\"Ted Strickland\"],[\"James Lankford\",\"Mike Workman\"],[\"Ron Wyden\",\"Mark Callahan\"],[\"Pat Toomey\",\"Katie McGinty\"],[\"Tim Scott\",\"Thomas Dixon\"], [\"John Thune\" , \"Jay Wiliams\"], [\"Mike Lee\",\"Misty Snow\"],[\"Patrick Leahy\",\"Scott Milne\"],[\"Patty Murray\",\"Chris Vance\"],[\"Ron Johnson\",\"Russ Feingold\"]]\n",
    "\n",
    "def searchState(kw_list):\n",
    "    pytrend.build_payload(kw_list, geo = 'US',  timeframe = '2016-01-01 2016-11-08')\n",
    "    iot_2016 = pytrend.interest_over_time()\n",
    "    person1 = (sum(iot_2016[kw_list[0]]))/ ((sum(iot_2016[kw_list[0]])) + (sum(iot_2016[kw_list[1]])))\n",
    "    person2 = 1-person1\n",
    "    x = (person1, person2)\n",
    "    gtrends2016S.append(x)\n",
    "\n",
    "\n",
    "kw_list = [searchState(n) for n in names]"
   ]
  },
  {
   "cell_type": "code",
   "execution_count": 7,
   "metadata": {},
   "outputs": [],
   "source": [
    "from pprint import pprint\n",
    "gtrends16S = ([item for c_list in gtrends2016S for item in c_list])\n",
    "\n",
    "gtrends16S = pd.DataFrame(np.array(gtrends16S))\n",
    "df_gtrends_2016S = gtrends16S.rename(columns={0 : 'Percent Searched'})"
   ]
  },
  {
   "cell_type": "code",
   "execution_count": 8,
   "metadata": {},
   "outputs": [],
   "source": [
    "df_2016S = df_2016_Senate[[\"CANDIDATE NAME\" , \"GENERAL %\"]]\n",
    "\n",
    "df_combined4 = df_2016S.join(df_gtrends_2016S, how = \"left\")"
   ]
  },
  {
   "cell_type": "code",
   "execution_count": 11,
   "metadata": {},
   "outputs": [
    {
     "data": {
      "text/plain": [
       "<matplotlib.axes._subplots.AxesSubplot at 0x2e025791da0>"
      ]
     },
     "execution_count": 11,
     "metadata": {},
     "output_type": "execute_result"
    },
    {
     "data": {
      "image/png": "[encoded data removed]",
      "text/plain": [
       "<matplotlib.figure.Figure at 0x2e02570b518>"
      ]
     },
     "metadata": {},
     "output_type": "display_data"
    }
   ],
   "source": [
    "import seaborn as sns \n",
    "\n",
    "sns.regplot(x = \"Percent Searched\" , y = \"GENERAL %\" , data = df_combined4)"
   ]
  },
  {
   "cell_type": "code",
   "execution_count": 12,
   "metadata": {},
   "outputs": [
    {
     "name": "stderr",
     "output_type": "stream",
     "text": [
      "C:\\Users\\catjm\\Anaconda3\\lib\\site-packages\\statsmodels\\compat\\pandas.py:56: FutureWarning: The pandas.core.datetools module is deprecated and will be removed in a future version. Please use the pandas.tseries module instead.\n",
      "  from pandas.core import datetools\n"
     ]
    },
    {
     "data": {
      "text/html": [
       "<table class=\"simpletable\">\n",
       "<caption>OLS Regression Results</caption>\n",
       "<tr>\n",
       "  <th>Dep. Variable:</th>           <td>GP</td>        <th>  R-squared:         </th> <td>   0.262</td>\n",
       "</tr>\n",
       "<tr>\n",
       "  <th>Model:</th>                   <td>OLS</td>       <th>  Adj. R-squared:    </th> <td>   0.250</td>\n",
       "</tr>\n",
       "<tr>\n",
       "  <th>Method:</th>             <td>Least Squares</td>  <th>  F-statistic:       </th> <td>   23.39</td>\n",
       "</tr>\n",
       "<tr>\n",
       "  <th>Date:</th>             <td>Fri, 29 Dec 2017</td> <th>  Prob (F-statistic):</th> <td>8.27e-06</td>\n",
       "</tr>\n",
       "<tr>\n",
       "  <th>Time:</th>                 <td>15:13:40</td>     <th>  Log-Likelihood:    </th> <td>  46.988</td>\n",
       "</tr>\n",
       "<tr>\n",
       "  <th>No. Observations:</th>      <td>    68</td>      <th>  AIC:               </th> <td>  -89.98</td>\n",
       "</tr>\n",
       "<tr>\n",
       "  <th>Df Residuals:</th>          <td>    66</td>      <th>  BIC:               </th> <td>  -85.54</td>\n",
       "</tr>\n",
       "<tr>\n",
       "  <th>Df Model:</th>              <td>     1</td>      <th>                     </th>     <td> </td>   \n",
       "</tr>\n",
       "<tr>\n",
       "  <th>Covariance Type:</th>      <td>nonrobust</td>    <th>                     </th>     <td> </td>   \n",
       "</tr>\n",
       "</table>\n",
       "<table class=\"simpletable\">\n",
       "<tr>\n",
       "      <td></td>         <th>coef</th>     <th>std err</th>      <th>t</th>      <th>P>|t|</th>  <th>[0.025</th>    <th>0.975]</th>  \n",
       "</tr>\n",
       "<tr>\n",
       "  <th>Intercept</th> <td>    0.3341</td> <td>    0.031</td> <td>   10.753</td> <td> 0.000</td> <td>    0.272</td> <td>    0.396</td>\n",
       "</tr>\n",
       "<tr>\n",
       "  <th>PS</th>        <td>    0.2636</td> <td>    0.055</td> <td>    4.836</td> <td> 0.000</td> <td>    0.155</td> <td>    0.372</td>\n",
       "</tr>\n",
       "</table>\n",
       "<table class=\"simpletable\">\n",
       "<tr>\n",
       "  <th>Omnibus:</th>       <td> 8.215</td> <th>  Durbin-Watson:     </th> <td>   2.993</td>\n",
       "</tr>\n",
       "<tr>\n",
       "  <th>Prob(Omnibus):</th> <td> 0.016</td> <th>  Jarque-Bera (JB):  </th> <td>  12.630</td>\n",
       "</tr>\n",
       "<tr>\n",
       "  <th>Skew:</th>          <td>-0.363</td> <th>  Prob(JB):          </th> <td> 0.00181</td>\n",
       "</tr>\n",
       "<tr>\n",
       "  <th>Kurtosis:</th>      <td> 4.983</td> <th>  Cond. No.          </th> <td>    4.62</td>\n",
       "</tr>\n",
       "</table>"
      ],
      "text/plain": [
       "<class 'statsmodels.iolib.summary.Summary'>\n",
       "\"\"\"\n",
       "                            OLS Regression Results                            \n",
       "==============================================================================\n",
       "Dep. Variable:                     GP   R-squared:                       0.262\n",
       "Model:                            OLS   Adj. R-squared:                  0.250\n",
       "Method:                 Least Squares   F-statistic:                     23.39\n",
       "Date:                Fri, 29 Dec 2017   Prob (F-statistic):           8.27e-06\n",
       "Time:                        15:13:40   Log-Likelihood:                 46.988\n",
       "No. Observations:                  68   AIC:                            -89.98\n",
       "Df Residuals:                      66   BIC:                            -85.54\n",
       "Df Model:                           1                                         \n",
       "Covariance Type:            nonrobust                                         \n",
       "==============================================================================\n",
       "                 coef    std err          t      P>|t|      [0.025      0.975]\n",
       "------------------------------------------------------------------------------\n",
       "Intercept      0.3341      0.031     10.753      0.000       0.272       0.396\n",
       "PS             0.2636      0.055      4.836      0.000       0.155       0.372\n",
       "==============================================================================\n",
       "Omnibus:                        8.215   Durbin-Watson:                   2.993\n",
       "Prob(Omnibus):                  0.016   Jarque-Bera (JB):               12.630\n",
       "Skew:                          -0.363   Prob(JB):                      0.00181\n",
       "Kurtosis:                       4.983   Cond. No.                         4.62\n",
       "==============================================================================\n",
       "\n",
       "Warnings:\n",
       "[1] Standard Errors assume that the covariance matrix of the errors is correctly specified.\n",
       "\"\"\""
      ]
     },
     "execution_count": 12,
     "metadata": {},
     "output_type": "execute_result"
    }
   ],
   "source": [
    "from scipy import stats\n",
    "import statsmodels.api as sm\n",
    "import statsmodels.formula.api as smf \n",
    "import statsmodels.regression.mixed_linear_model as sm_mlm\n",
    "\n",
    "ols = smf.ols(formula = \"GP ~ PS\", data = df_combined4.rename(columns = {\"GENERAL %\" : \"GP\", \"Percent Searched\" : \"PS\"}))\n",
    "model = ols.fit()\n",
    "model.summary()"
   ]
  }
 ],
 "metadata": {
  "kernelspec": {
   "display_name": "Python 3",
   "language": "python",
   "name": "python3"
  },
  "language_info": {
   "codemirror_mode": {
    "name": "ipython",
    "version": 3
   },
   "file_extension": ".py",
   "mimetype": "text/x-python",
   "name": "python",
   "nbconvert_exporter": "python",
   "pygments_lexer": "ipython3",
   "version": "3.6.1"
  }
 },
 "nbformat": 4,
 "nbformat_minor": 2
}
